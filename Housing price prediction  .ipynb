{
 "cells": [
  {
   "cell_type": "code",
   "execution_count": 1,
   "metadata": {},
   "outputs": [],
   "source": [
    "import numpy as np\n",
    "import pandas as pd\n",
    "import matplotlib.pyplot as plt\n",
    "import seaborn as sns\n",
    "%matplotlib inline"
   ]
  },
  {
   "cell_type": "code",
   "execution_count": 2,
   "metadata": {},
   "outputs": [],
   "source": [
    "data = pd.read_csv(\"housing.csv\")"
   ]
  },
  {
   "cell_type": "code",
   "execution_count": 3,
   "metadata": {},
   "outputs": [
    {
     "data": {
      "text/html": [
       "<div>\n",
       "<style scoped>\n",
       "    .dataframe tbody tr th:only-of-type {\n",
       "        vertical-align: middle;\n",
       "    }\n",
       "\n",
       "    .dataframe tbody tr th {\n",
       "        vertical-align: top;\n",
       "    }\n",
       "\n",
       "    .dataframe thead th {\n",
       "        text-align: right;\n",
       "    }\n",
       "</style>\n",
       "<table border=\"1\" class=\"dataframe\">\n",
       "  <thead>\n",
       "    <tr style=\"text-align: right;\">\n",
       "      <th></th>\n",
       "      <th>longitude</th>\n",
       "      <th>latitude</th>\n",
       "      <th>housing_median_age</th>\n",
       "      <th>total_rooms</th>\n",
       "      <th>total_bedrooms</th>\n",
       "      <th>population</th>\n",
       "      <th>households</th>\n",
       "      <th>median_income</th>\n",
       "      <th>median_house_value</th>\n",
       "      <th>ocean_proximity</th>\n",
       "    </tr>\n",
       "  </thead>\n",
       "  <tbody>\n",
       "    <tr>\n",
       "      <th>0</th>\n",
       "      <td>-122.23</td>\n",
       "      <td>37.88</td>\n",
       "      <td>41.0</td>\n",
       "      <td>880.0</td>\n",
       "      <td>129.0</td>\n",
       "      <td>322.0</td>\n",
       "      <td>126.0</td>\n",
       "      <td>8.3252</td>\n",
       "      <td>452600.0</td>\n",
       "      <td>NEAR BAY</td>\n",
       "    </tr>\n",
       "    <tr>\n",
       "      <th>1</th>\n",
       "      <td>-122.22</td>\n",
       "      <td>37.86</td>\n",
       "      <td>21.0</td>\n",
       "      <td>7099.0</td>\n",
       "      <td>1106.0</td>\n",
       "      <td>2401.0</td>\n",
       "      <td>1138.0</td>\n",
       "      <td>8.3014</td>\n",
       "      <td>358500.0</td>\n",
       "      <td>NEAR BAY</td>\n",
       "    </tr>\n",
       "    <tr>\n",
       "      <th>2</th>\n",
       "      <td>-122.24</td>\n",
       "      <td>37.85</td>\n",
       "      <td>52.0</td>\n",
       "      <td>1467.0</td>\n",
       "      <td>190.0</td>\n",
       "      <td>496.0</td>\n",
       "      <td>177.0</td>\n",
       "      <td>7.2574</td>\n",
       "      <td>352100.0</td>\n",
       "      <td>NEAR BAY</td>\n",
       "    </tr>\n",
       "    <tr>\n",
       "      <th>3</th>\n",
       "      <td>-122.25</td>\n",
       "      <td>37.85</td>\n",
       "      <td>52.0</td>\n",
       "      <td>1274.0</td>\n",
       "      <td>235.0</td>\n",
       "      <td>558.0</td>\n",
       "      <td>219.0</td>\n",
       "      <td>5.6431</td>\n",
       "      <td>341300.0</td>\n",
       "      <td>NEAR BAY</td>\n",
       "    </tr>\n",
       "    <tr>\n",
       "      <th>4</th>\n",
       "      <td>-122.25</td>\n",
       "      <td>37.85</td>\n",
       "      <td>52.0</td>\n",
       "      <td>1627.0</td>\n",
       "      <td>280.0</td>\n",
       "      <td>565.0</td>\n",
       "      <td>259.0</td>\n",
       "      <td>3.8462</td>\n",
       "      <td>342200.0</td>\n",
       "      <td>NEAR BAY</td>\n",
       "    </tr>\n",
       "  </tbody>\n",
       "</table>\n",
       "</div>"
      ],
      "text/plain": [
       "   longitude  latitude  housing_median_age  total_rooms  total_bedrooms  \\\n",
       "0    -122.23     37.88                41.0        880.0           129.0   \n",
       "1    -122.22     37.86                21.0       7099.0          1106.0   \n",
       "2    -122.24     37.85                52.0       1467.0           190.0   \n",
       "3    -122.25     37.85                52.0       1274.0           235.0   \n",
       "4    -122.25     37.85                52.0       1627.0           280.0   \n",
       "\n",
       "   population  households  median_income  median_house_value ocean_proximity  \n",
       "0       322.0       126.0         8.3252            452600.0        NEAR BAY  \n",
       "1      2401.0      1138.0         8.3014            358500.0        NEAR BAY  \n",
       "2       496.0       177.0         7.2574            352100.0        NEAR BAY  \n",
       "3       558.0       219.0         5.6431            341300.0        NEAR BAY  \n",
       "4       565.0       259.0         3.8462            342200.0        NEAR BAY  "
      ]
     },
     "execution_count": 3,
     "metadata": {},
     "output_type": "execute_result"
    }
   ],
   "source": [
    "data.head(5)"
   ]
  },
  {
   "cell_type": "code",
   "execution_count": 4,
   "metadata": {},
   "outputs": [
    {
     "name": "stdout",
     "output_type": "stream",
     "text": [
      "<class 'pandas.core.frame.DataFrame'>\n",
      "RangeIndex: 20640 entries, 0 to 20639\n",
      "Data columns (total 10 columns):\n",
      "longitude             20640 non-null float64\n",
      "latitude              20640 non-null float64\n",
      "housing_median_age    20640 non-null float64\n",
      "total_rooms           20640 non-null float64\n",
      "total_bedrooms        20433 non-null float64\n",
      "population            20640 non-null float64\n",
      "households            20640 non-null float64\n",
      "median_income         20640 non-null float64\n",
      "median_house_value    20640 non-null float64\n",
      "ocean_proximity       20640 non-null object\n",
      "dtypes: float64(9), object(1)\n",
      "memory usage: 1.6+ MB\n"
     ]
    }
   ],
   "source": [
    "data.info()"
   ]
  },
  {
   "cell_type": "code",
   "execution_count": 5,
   "metadata": {},
   "outputs": [
    {
     "data": {
      "text/plain": [
       "6445.0"
      ]
     },
     "execution_count": 5,
     "metadata": {},
     "output_type": "execute_result"
    }
   ],
   "source": [
    "data[\"total_bedrooms\"].max()"
   ]
  },
  {
   "cell_type": "code",
   "execution_count": 6,
   "metadata": {},
   "outputs": [
    {
     "data": {
      "text/plain": [
       "1.0"
      ]
     },
     "execution_count": 6,
     "metadata": {},
     "output_type": "execute_result"
    }
   ],
   "source": [
    "data[\"total_bedrooms\"].min()"
   ]
  },
  {
   "cell_type": "code",
   "execution_count": 7,
   "metadata": {},
   "outputs": [],
   "source": [
    "data['total_bedrooms'].fillna((data['total_bedrooms'].mean()), inplace=True)"
   ]
  },
  {
   "cell_type": "code",
   "execution_count": 8,
   "metadata": {},
   "outputs": [
    {
     "name": "stdout",
     "output_type": "stream",
     "text": [
      "<class 'pandas.core.frame.DataFrame'>\n",
      "RangeIndex: 20640 entries, 0 to 20639\n",
      "Data columns (total 10 columns):\n",
      "longitude             20640 non-null float64\n",
      "latitude              20640 non-null float64\n",
      "housing_median_age    20640 non-null float64\n",
      "total_rooms           20640 non-null float64\n",
      "total_bedrooms        20640 non-null float64\n",
      "population            20640 non-null float64\n",
      "households            20640 non-null float64\n",
      "median_income         20640 non-null float64\n",
      "median_house_value    20640 non-null float64\n",
      "ocean_proximity       20640 non-null object\n",
      "dtypes: float64(9), object(1)\n",
      "memory usage: 1.6+ MB\n"
     ]
    }
   ],
   "source": [
    "data.info()"
   ]
  },
  {
   "cell_type": "code",
   "execution_count": 9,
   "metadata": {},
   "outputs": [],
   "source": [
    "Min = data[\"median_house_value\"].min()"
   ]
  },
  {
   "cell_type": "code",
   "execution_count": 10,
   "metadata": {},
   "outputs": [],
   "source": [
    "Max = data[\"median_house_value\"].max()"
   ]
  },
  {
   "cell_type": "code",
   "execution_count": 11,
   "metadata": {},
   "outputs": [],
   "source": [
    "diff = data[\"median_house_value\"].max() - data[\"median_house_value\"].min()"
   ]
  },
  {
   "cell_type": "code",
   "execution_count": 12,
   "metadata": {},
   "outputs": [],
   "source": [
    "rang = diff/5"
   ]
  },
  {
   "cell_type": "code",
   "execution_count": 13,
   "metadata": {},
   "outputs": [
    {
     "data": {
      "text/plain": [
       "111999.4"
      ]
     },
     "execution_count": 13,
     "metadata": {},
     "output_type": "execute_result"
    }
   ],
   "source": [
    "cat1 = rang + data[\"median_house_value\"].min()\n",
    "cat1"
   ]
  },
  {
   "cell_type": "code",
   "execution_count": 14,
   "metadata": {},
   "outputs": [
    {
     "data": {
      "text/plain": [
       "208999.8"
      ]
     },
     "execution_count": 14,
     "metadata": {},
     "output_type": "execute_result"
    }
   ],
   "source": [
    "cat2 = cat1 + rang\n",
    "cat2"
   ]
  },
  {
   "cell_type": "code",
   "execution_count": 15,
   "metadata": {},
   "outputs": [
    {
     "data": {
      "text/plain": [
       "306000.19999999995"
      ]
     },
     "execution_count": 15,
     "metadata": {},
     "output_type": "execute_result"
    }
   ],
   "source": [
    "cat3 = cat2 + rang\n",
    "cat3"
   ]
  },
  {
   "cell_type": "code",
   "execution_count": 16,
   "metadata": {},
   "outputs": [
    {
     "data": {
      "text/plain": [
       "403000.6"
      ]
     },
     "execution_count": 16,
     "metadata": {},
     "output_type": "execute_result"
    }
   ],
   "source": [
    "cat4 = cat3 + rang\n",
    "cat4"
   ]
  },
  {
   "cell_type": "code",
   "execution_count": 17,
   "metadata": {},
   "outputs": [
    {
     "data": {
      "text/plain": [
       "500001.0"
      ]
     },
     "execution_count": 17,
     "metadata": {},
     "output_type": "execute_result"
    }
   ],
   "source": [
    "cat5 = cat4 + rang\n",
    "cat5"
   ]
  },
  {
   "cell_type": "code",
   "execution_count": 18,
   "metadata": {},
   "outputs": [],
   "source": [
    "for i in data[\"median_house_value\"]:\n",
    "    if i < cat1 and i >= Min: \n",
    "        data[\"median_house_value\"].replace({i: \"Very Cheap\"}, inplace=True)\n",
    "    elif i < cat2 and i >= cat1: \n",
    "        data[\"median_house_value\"].replace({i: \"Cheap\"}, inplace=True)\n",
    "    elif i < cat3 and i >= cat2: \n",
    "        data[\"median_house_value\"].replace({i: \"Normal\"}, inplace=True)\n",
    "    elif i < cat4 and i >= cat3: \n",
    "        data[\"median_house_value\"].replace({i: \"Expensive\"}, inplace=True)\n",
    "    elif i <= cat5 and i >= cat4: \n",
    "        data[\"median_house_value\"].replace({i: \"Very Expensive\"}, inplace=True)"
   ]
  },
  {
   "cell_type": "code",
   "execution_count": 19,
   "metadata": {},
   "outputs": [
    {
     "data": {
      "text/plain": [
       "0     Very Expensive\n",
       "1          Expensive\n",
       "2          Expensive\n",
       "3          Expensive\n",
       "4          Expensive\n",
       "5             Normal\n",
       "6             Normal\n",
       "7             Normal\n",
       "8             Normal\n",
       "9             Normal\n",
       "10            Normal\n",
       "11            Normal\n",
       "12            Normal\n",
       "13             Cheap\n",
       "14             Cheap\n",
       "15             Cheap\n",
       "16             Cheap\n",
       "17             Cheap\n",
       "18             Cheap\n",
       "19             Cheap\n",
       "Name: median_house_value, dtype: object"
      ]
     },
     "execution_count": 19,
     "metadata": {},
     "output_type": "execute_result"
    }
   ],
   "source": [
    "data[\"median_house_value\"].head(20)"
   ]
  },
  {
   "cell_type": "code",
   "execution_count": 20,
   "metadata": {},
   "outputs": [
    {
     "data": {
      "text/plain": [
       "Cheap             7870\n",
       "Normal            4568\n",
       "Very Cheap        4489\n",
       "Expensive         1991\n",
       "Very Expensive    1722\n",
       "Name: median_house_value, dtype: int64"
      ]
     },
     "execution_count": 20,
     "metadata": {},
     "output_type": "execute_result"
    }
   ],
   "source": [
    "data[\"median_house_value\"].value_counts()"
   ]
  },
  {
   "cell_type": "code",
   "execution_count": 21,
   "metadata": {},
   "outputs": [
    {
     "data": {
      "text/plain": [
       "array([[<matplotlib.axes._subplots.AxesSubplot object at 0x0000022B3190DD30>,\n",
       "        <matplotlib.axes._subplots.AxesSubplot object at 0x0000022B33B53D68>,\n",
       "        <matplotlib.axes._subplots.AxesSubplot object at 0x0000022B33F93358>],\n",
       "       [<matplotlib.axes._subplots.AxesSubplot object at 0x0000022B33FBD908>,\n",
       "        <matplotlib.axes._subplots.AxesSubplot object at 0x0000022B33FEFEB8>,\n",
       "        <matplotlib.axes._subplots.AxesSubplot object at 0x0000022B340274A8>],\n",
       "       [<matplotlib.axes._subplots.AxesSubplot object at 0x0000022B34054A58>,\n",
       "        <matplotlib.axes._subplots.AxesSubplot object at 0x0000022B34091080>,\n",
       "        <matplotlib.axes._subplots.AxesSubplot object at 0x0000022B340910B8>]],\n",
       "      dtype=object)"
      ]
     },
     "execution_count": 21,
     "metadata": {},
     "output_type": "execute_result"
    },
    {
     "data": {
      "image/png": "[encoded data removed]",
      "text/plain": [
       "<Figure size 1440x1440 with 9 Axes>"
      ]
     },
     "metadata": {
      "needs_background": "light"
     },
     "output_type": "display_data"
    }
   ],
   "source": [
    "data.hist(bins=50 ,figsize = (20,20))"
   ]
  },
  {
   "cell_type": "code",
   "execution_count": 22,
   "metadata": {},
   "outputs": [
    {
     "data": {
      "text/html": [
       "<div>\n",
       "<style scoped>\n",
       "    .dataframe tbody tr th:only-of-type {\n",
       "        vertical-align: middle;\n",
       "    }\n",
       "\n",
       "    .dataframe tbody tr th {\n",
       "        vertical-align: top;\n",
       "    }\n",
       "\n",
       "    .dataframe thead th {\n",
       "        text-align: right;\n",
       "    }\n",
       "</style>\n",
       "<table border=\"1\" class=\"dataframe\">\n",
       "  <thead>\n",
       "    <tr style=\"text-align: right;\">\n",
       "      <th></th>\n",
       "      <th>longitude</th>\n",
       "      <th>latitude</th>\n",
       "      <th>housing_median_age</th>\n",
       "      <th>total_rooms</th>\n",
       "      <th>total_bedrooms</th>\n",
       "      <th>population</th>\n",
       "      <th>households</th>\n",
       "      <th>median_income</th>\n",
       "      <th>median_house_value</th>\n",
       "      <th>ocean_proximity</th>\n",
       "    </tr>\n",
       "  </thead>\n",
       "  <tbody>\n",
       "    <tr>\n",
       "      <th>0</th>\n",
       "      <td>-122.23</td>\n",
       "      <td>37.88</td>\n",
       "      <td>41.0</td>\n",
       "      <td>880.0</td>\n",
       "      <td>129.0</td>\n",
       "      <td>322.0</td>\n",
       "      <td>126.0</td>\n",
       "      <td>8.3252</td>\n",
       "      <td>Very Expensive</td>\n",
       "      <td>NEAR BAY</td>\n",
       "    </tr>\n",
       "    <tr>\n",
       "      <th>1</th>\n",
       "      <td>-122.22</td>\n",
       "      <td>37.86</td>\n",
       "      <td>21.0</td>\n",
       "      <td>7099.0</td>\n",
       "      <td>1106.0</td>\n",
       "      <td>2401.0</td>\n",
       "      <td>1138.0</td>\n",
       "      <td>8.3014</td>\n",
       "      <td>Expensive</td>\n",
       "      <td>NEAR BAY</td>\n",
       "    </tr>\n",
       "    <tr>\n",
       "      <th>2</th>\n",
       "      <td>-122.24</td>\n",
       "      <td>37.85</td>\n",
       "      <td>52.0</td>\n",
       "      <td>1467.0</td>\n",
       "      <td>190.0</td>\n",
       "      <td>496.0</td>\n",
       "      <td>177.0</td>\n",
       "      <td>7.2574</td>\n",
       "      <td>Expensive</td>\n",
       "      <td>NEAR BAY</td>\n",
       "    </tr>\n",
       "    <tr>\n",
       "      <th>3</th>\n",
       "      <td>-122.25</td>\n",
       "      <td>37.85</td>\n",
       "      <td>52.0</td>\n",
       "      <td>1274.0</td>\n",
       "      <td>235.0</td>\n",
       "      <td>558.0</td>\n",
       "      <td>219.0</td>\n",
       "      <td>5.6431</td>\n",
       "      <td>Expensive</td>\n",
       "      <td>NEAR BAY</td>\n",
       "    </tr>\n",
       "    <tr>\n",
       "      <th>4</th>\n",
       "      <td>-122.25</td>\n",
       "      <td>37.85</td>\n",
       "      <td>52.0</td>\n",
       "      <td>1627.0</td>\n",
       "      <td>280.0</td>\n",
       "      <td>565.0</td>\n",
       "      <td>259.0</td>\n",
       "      <td>3.8462</td>\n",
       "      <td>Expensive</td>\n",
       "      <td>NEAR BAY</td>\n",
       "    </tr>\n",
       "    <tr>\n",
       "      <th>5</th>\n",
       "      <td>-122.25</td>\n",
       "      <td>37.85</td>\n",
       "      <td>52.0</td>\n",
       "      <td>919.0</td>\n",
       "      <td>213.0</td>\n",
       "      <td>413.0</td>\n",
       "      <td>193.0</td>\n",
       "      <td>4.0368</td>\n",
       "      <td>Normal</td>\n",
       "      <td>NEAR BAY</td>\n",
       "    </tr>\n",
       "    <tr>\n",
       "      <th>6</th>\n",
       "      <td>-122.25</td>\n",
       "      <td>37.84</td>\n",
       "      <td>52.0</td>\n",
       "      <td>2535.0</td>\n",
       "      <td>489.0</td>\n",
       "      <td>1094.0</td>\n",
       "      <td>514.0</td>\n",
       "      <td>3.6591</td>\n",
       "      <td>Normal</td>\n",
       "      <td>NEAR BAY</td>\n",
       "    </tr>\n",
       "    <tr>\n",
       "      <th>7</th>\n",
       "      <td>-122.25</td>\n",
       "      <td>37.84</td>\n",
       "      <td>52.0</td>\n",
       "      <td>3104.0</td>\n",
       "      <td>687.0</td>\n",
       "      <td>1157.0</td>\n",
       "      <td>647.0</td>\n",
       "      <td>3.1200</td>\n",
       "      <td>Normal</td>\n",
       "      <td>NEAR BAY</td>\n",
       "    </tr>\n",
       "    <tr>\n",
       "      <th>8</th>\n",
       "      <td>-122.26</td>\n",
       "      <td>37.84</td>\n",
       "      <td>42.0</td>\n",
       "      <td>2555.0</td>\n",
       "      <td>665.0</td>\n",
       "      <td>1206.0</td>\n",
       "      <td>595.0</td>\n",
       "      <td>2.0804</td>\n",
       "      <td>Normal</td>\n",
       "      <td>NEAR BAY</td>\n",
       "    </tr>\n",
       "    <tr>\n",
       "      <th>9</th>\n",
       "      <td>-122.25</td>\n",
       "      <td>37.84</td>\n",
       "      <td>52.0</td>\n",
       "      <td>3549.0</td>\n",
       "      <td>707.0</td>\n",
       "      <td>1551.0</td>\n",
       "      <td>714.0</td>\n",
       "      <td>3.6912</td>\n",
       "      <td>Normal</td>\n",
       "      <td>NEAR BAY</td>\n",
       "    </tr>\n",
       "    <tr>\n",
       "      <th>10</th>\n",
       "      <td>-122.26</td>\n",
       "      <td>37.85</td>\n",
       "      <td>52.0</td>\n",
       "      <td>2202.0</td>\n",
       "      <td>434.0</td>\n",
       "      <td>910.0</td>\n",
       "      <td>402.0</td>\n",
       "      <td>3.2031</td>\n",
       "      <td>Normal</td>\n",
       "      <td>NEAR BAY</td>\n",
       "    </tr>\n",
       "    <tr>\n",
       "      <th>11</th>\n",
       "      <td>-122.26</td>\n",
       "      <td>37.85</td>\n",
       "      <td>52.0</td>\n",
       "      <td>3503.0</td>\n",
       "      <td>752.0</td>\n",
       "      <td>1504.0</td>\n",
       "      <td>734.0</td>\n",
       "      <td>3.2705</td>\n",
       "      <td>Normal</td>\n",
       "      <td>NEAR BAY</td>\n",
       "    </tr>\n",
       "    <tr>\n",
       "      <th>12</th>\n",
       "      <td>-122.26</td>\n",
       "      <td>37.85</td>\n",
       "      <td>52.0</td>\n",
       "      <td>2491.0</td>\n",
       "      <td>474.0</td>\n",
       "      <td>1098.0</td>\n",
       "      <td>468.0</td>\n",
       "      <td>3.0750</td>\n",
       "      <td>Normal</td>\n",
       "      <td>NEAR BAY</td>\n",
       "    </tr>\n",
       "    <tr>\n",
       "      <th>13</th>\n",
       "      <td>-122.26</td>\n",
       "      <td>37.84</td>\n",
       "      <td>52.0</td>\n",
       "      <td>696.0</td>\n",
       "      <td>191.0</td>\n",
       "      <td>345.0</td>\n",
       "      <td>174.0</td>\n",
       "      <td>2.6736</td>\n",
       "      <td>Cheap</td>\n",
       "      <td>NEAR BAY</td>\n",
       "    </tr>\n",
       "    <tr>\n",
       "      <th>14</th>\n",
       "      <td>-122.26</td>\n",
       "      <td>37.85</td>\n",
       "      <td>52.0</td>\n",
       "      <td>2643.0</td>\n",
       "      <td>626.0</td>\n",
       "      <td>1212.0</td>\n",
       "      <td>620.0</td>\n",
       "      <td>1.9167</td>\n",
       "      <td>Cheap</td>\n",
       "      <td>NEAR BAY</td>\n",
       "    </tr>\n",
       "    <tr>\n",
       "      <th>15</th>\n",
       "      <td>-122.26</td>\n",
       "      <td>37.85</td>\n",
       "      <td>50.0</td>\n",
       "      <td>1120.0</td>\n",
       "      <td>283.0</td>\n",
       "      <td>697.0</td>\n",
       "      <td>264.0</td>\n",
       "      <td>2.1250</td>\n",
       "      <td>Cheap</td>\n",
       "      <td>NEAR BAY</td>\n",
       "    </tr>\n",
       "    <tr>\n",
       "      <th>16</th>\n",
       "      <td>-122.27</td>\n",
       "      <td>37.85</td>\n",
       "      <td>52.0</td>\n",
       "      <td>1966.0</td>\n",
       "      <td>347.0</td>\n",
       "      <td>793.0</td>\n",
       "      <td>331.0</td>\n",
       "      <td>2.7750</td>\n",
       "      <td>Cheap</td>\n",
       "      <td>NEAR BAY</td>\n",
       "    </tr>\n",
       "    <tr>\n",
       "      <th>17</th>\n",
       "      <td>-122.27</td>\n",
       "      <td>37.85</td>\n",
       "      <td>52.0</td>\n",
       "      <td>1228.0</td>\n",
       "      <td>293.0</td>\n",
       "      <td>648.0</td>\n",
       "      <td>303.0</td>\n",
       "      <td>2.1202</td>\n",
       "      <td>Cheap</td>\n",
       "      <td>NEAR BAY</td>\n",
       "    </tr>\n",
       "    <tr>\n",
       "      <th>18</th>\n",
       "      <td>-122.26</td>\n",
       "      <td>37.84</td>\n",
       "      <td>50.0</td>\n",
       "      <td>2239.0</td>\n",
       "      <td>455.0</td>\n",
       "      <td>990.0</td>\n",
       "      <td>419.0</td>\n",
       "      <td>1.9911</td>\n",
       "      <td>Cheap</td>\n",
       "      <td>NEAR BAY</td>\n",
       "    </tr>\n",
       "    <tr>\n",
       "      <th>19</th>\n",
       "      <td>-122.27</td>\n",
       "      <td>37.84</td>\n",
       "      <td>52.0</td>\n",
       "      <td>1503.0</td>\n",
       "      <td>298.0</td>\n",
       "      <td>690.0</td>\n",
       "      <td>275.0</td>\n",
       "      <td>2.6033</td>\n",
       "      <td>Cheap</td>\n",
       "      <td>NEAR BAY</td>\n",
       "    </tr>\n",
       "  </tbody>\n",
       "</table>\n",
       "</div>"
      ],
      "text/plain": [
       "    longitude  latitude  housing_median_age  total_rooms  total_bedrooms  \\\n",
       "0     -122.23     37.88                41.0        880.0           129.0   \n",
       "1     -122.22     37.86                21.0       7099.0          1106.0   \n",
       "2     -122.24     37.85                52.0       1467.0           190.0   \n",
       "3     -122.25     37.85                52.0       1274.0           235.0   \n",
       "4     -122.25     37.85                52.0       1627.0           280.0   \n",
       "5     -122.25     37.85                52.0        919.0           213.0   \n",
       "6     -122.25     37.84                52.0       2535.0           489.0   \n",
       "7     -122.25     37.84                52.0       3104.0           687.0   \n",
       "8     -122.26     37.84                42.0       2555.0           665.0   \n",
       "9     -122.25     37.84                52.0       3549.0           707.0   \n",
       "10    -122.26     37.85                52.0       2202.0           434.0   \n",
       "11    -122.26     37.85                52.0       3503.0           752.0   \n",
       "12    -122.26     37.85                52.0       2491.0           474.0   \n",
       "13    -122.26     37.84                52.0        696.0           191.0   \n",
       "14    -122.26     37.85                52.0       2643.0           626.0   \n",
       "15    -122.26     37.85                50.0       1120.0           283.0   \n",
       "16    -122.27     37.85                52.0       1966.0           347.0   \n",
       "17    -122.27     37.85                52.0       1228.0           293.0   \n",
       "18    -122.26     37.84                50.0       2239.0           455.0   \n",
       "19    -122.27     37.84                52.0       1503.0           298.0   \n",
       "\n",
       "    population  households  median_income median_house_value ocean_proximity  \n",
       "0        322.0       126.0         8.3252     Very Expensive        NEAR BAY  \n",
       "1       2401.0      1138.0         8.3014          Expensive        NEAR BAY  \n",
       "2        496.0       177.0         7.2574          Expensive        NEAR BAY  \n",
       "3        558.0       219.0         5.6431          Expensive        NEAR BAY  \n",
       "4        565.0       259.0         3.8462          Expensive        NEAR BAY  \n",
       "5        413.0       193.0         4.0368             Normal        NEAR BAY  \n",
       "6       1094.0       514.0         3.6591             Normal        NEAR BAY  \n",
       "7       1157.0       647.0         3.1200             Normal        NEAR BAY  \n",
       "8       1206.0       595.0         2.0804             Normal        NEAR BAY  \n",
       "9       1551.0       714.0         3.6912             Normal        NEAR BAY  \n",
       "10       910.0       402.0         3.2031             Normal        NEAR BAY  \n",
       "11      1504.0       734.0         3.2705             Normal        NEAR BAY  \n",
       "12      1098.0       468.0         3.0750             Normal        NEAR BAY  \n",
       "13       345.0       174.0         2.6736              Cheap        NEAR BAY  \n",
       "14      1212.0       620.0         1.9167              Cheap        NEAR BAY  \n",
       "15       697.0       264.0         2.1250              Cheap        NEAR BAY  \n",
       "16       793.0       331.0         2.7750              Cheap        NEAR BAY  \n",
       "17       648.0       303.0         2.1202              Cheap        NEAR BAY  \n",
       "18       990.0       419.0         1.9911              Cheap        NEAR BAY  \n",
       "19       690.0       275.0         2.6033              Cheap        NEAR BAY  "
      ]
     },
     "execution_count": 22,
     "metadata": {},
     "output_type": "execute_result"
    }
   ],
   "source": [
    "data.head(20)"
   ]
  },
  {
   "cell_type": "code",
   "execution_count": 23,
   "metadata": {},
   "outputs": [
    {
     "data": {
      "text/plain": [
       "<1H OCEAN     9136\n",
       "INLAND        6551\n",
       "NEAR OCEAN    2658\n",
       "NEAR BAY      2290\n",
       "ISLAND           5\n",
       "Name: ocean_proximity, dtype: int64"
      ]
     },
     "execution_count": 23,
     "metadata": {},
     "output_type": "execute_result"
    }
   ],
   "source": [
    "data[\"ocean_proximity\"].value_counts()"
   ]
  },
  {
   "cell_type": "code",
   "execution_count": 24,
   "metadata": {},
   "outputs": [
    {
     "data": {
      "text/html": [
       "<div>\n",
       "<style scoped>\n",
       "    .dataframe tbody tr th:only-of-type {\n",
       "        vertical-align: middle;\n",
       "    }\n",
       "\n",
       "    .dataframe tbody tr th {\n",
       "        vertical-align: top;\n",
       "    }\n",
       "\n",
       "    .dataframe thead th {\n",
       "        text-align: right;\n",
       "    }\n",
       "</style>\n",
       "<table border=\"1\" class=\"dataframe\">\n",
       "  <thead>\n",
       "    <tr style=\"text-align: right;\">\n",
       "      <th></th>\n",
       "      <th>longitude</th>\n",
       "      <th>latitude</th>\n",
       "      <th>housing_median_age</th>\n",
       "      <th>total_rooms</th>\n",
       "      <th>total_bedrooms</th>\n",
       "      <th>population</th>\n",
       "      <th>households</th>\n",
       "      <th>median_income</th>\n",
       "      <th>median_house_value</th>\n",
       "      <th>ocean_proximity</th>\n",
       "    </tr>\n",
       "  </thead>\n",
       "  <tbody>\n",
       "    <tr>\n",
       "      <th>8314</th>\n",
       "      <td>-118.32</td>\n",
       "      <td>33.35</td>\n",
       "      <td>27.0</td>\n",
       "      <td>1675.0</td>\n",
       "      <td>521.0</td>\n",
       "      <td>744.0</td>\n",
       "      <td>331.0</td>\n",
       "      <td>2.1579</td>\n",
       "      <td>Very Expensive</td>\n",
       "      <td>ISLAND</td>\n",
       "    </tr>\n",
       "    <tr>\n",
       "      <th>8315</th>\n",
       "      <td>-118.33</td>\n",
       "      <td>33.34</td>\n",
       "      <td>52.0</td>\n",
       "      <td>2359.0</td>\n",
       "      <td>591.0</td>\n",
       "      <td>1100.0</td>\n",
       "      <td>431.0</td>\n",
       "      <td>2.8333</td>\n",
       "      <td>Very Expensive</td>\n",
       "      <td>ISLAND</td>\n",
       "    </tr>\n",
       "    <tr>\n",
       "      <th>8316</th>\n",
       "      <td>-118.32</td>\n",
       "      <td>33.33</td>\n",
       "      <td>52.0</td>\n",
       "      <td>2127.0</td>\n",
       "      <td>512.0</td>\n",
       "      <td>733.0</td>\n",
       "      <td>288.0</td>\n",
       "      <td>3.3906</td>\n",
       "      <td>Normal</td>\n",
       "      <td>ISLAND</td>\n",
       "    </tr>\n",
       "    <tr>\n",
       "      <th>8317</th>\n",
       "      <td>-118.32</td>\n",
       "      <td>33.34</td>\n",
       "      <td>52.0</td>\n",
       "      <td>996.0</td>\n",
       "      <td>264.0</td>\n",
       "      <td>341.0</td>\n",
       "      <td>160.0</td>\n",
       "      <td>2.7361</td>\n",
       "      <td>Very Expensive</td>\n",
       "      <td>ISLAND</td>\n",
       "    </tr>\n",
       "    <tr>\n",
       "      <th>8318</th>\n",
       "      <td>-118.48</td>\n",
       "      <td>33.43</td>\n",
       "      <td>29.0</td>\n",
       "      <td>716.0</td>\n",
       "      <td>214.0</td>\n",
       "      <td>422.0</td>\n",
       "      <td>173.0</td>\n",
       "      <td>2.6042</td>\n",
       "      <td>Normal</td>\n",
       "      <td>ISLAND</td>\n",
       "    </tr>\n",
       "  </tbody>\n",
       "</table>\n",
       "</div>"
      ],
      "text/plain": [
       "      longitude  latitude  housing_median_age  total_rooms  total_bedrooms  \\\n",
       "8314    -118.32     33.35                27.0       1675.0           521.0   \n",
       "8315    -118.33     33.34                52.0       2359.0           591.0   \n",
       "8316    -118.32     33.33                52.0       2127.0           512.0   \n",
       "8317    -118.32     33.34                52.0        996.0           264.0   \n",
       "8318    -118.48     33.43                29.0        716.0           214.0   \n",
       "\n",
       "      population  households  median_income median_house_value ocean_proximity  \n",
       "8314       744.0       331.0         2.1579     Very Expensive          ISLAND  \n",
       "8315      1100.0       431.0         2.8333     Very Expensive          ISLAND  \n",
       "8316       733.0       288.0         3.3906             Normal          ISLAND  \n",
       "8317       341.0       160.0         2.7361     Very Expensive          ISLAND  \n",
       "8318       422.0       173.0         2.6042             Normal          ISLAND  "
      ]
     },
     "execution_count": 24,
     "metadata": {},
     "output_type": "execute_result"
    }
   ],
   "source": [
    "data[data[\"ocean_proximity\"]==\"ISLAND\"]"
   ]
  },
  {
   "cell_type": "code",
   "execution_count": 25,
   "metadata": {},
   "outputs": [
    {
     "data": {
      "text/plain": [
       "Cheap             3802\n",
       "Normal            2771\n",
       "Expensive         1104\n",
       "Very Expensive     919\n",
       "Very Cheap         540\n",
       "Name: median_house_value, dtype: int64"
      ]
     },
     "execution_count": 25,
     "metadata": {},
     "output_type": "execute_result"
    }
   ],
   "source": [
    "data[data[\"ocean_proximity\"]==\"<1H OCEAN\"][\"median_house_value\"].value_counts() #4"
   ]
  },
  {
   "cell_type": "code",
   "execution_count": 26,
   "metadata": {},
   "outputs": [
    {
     "data": {
      "text/plain": [
       "Cheap             869\n",
       "Normal            753\n",
       "Very Expensive    376\n",
       "Expensive         369\n",
       "Very Cheap        291\n",
       "Name: median_house_value, dtype: int64"
      ]
     },
     "execution_count": 26,
     "metadata": {},
     "output_type": "execute_result"
    }
   ],
   "source": [
    "data[data[\"ocean_proximity\"]==\"NEAR OCEAN\"][\"median_house_value\"].value_counts() #3"
   ]
  },
  {
   "cell_type": "code",
   "execution_count": 27,
   "metadata": {},
   "outputs": [
    {
     "data": {
      "text/plain": [
       "Very Cheap        3433\n",
       "Cheap             2464\n",
       "Normal             461\n",
       "Expensive          125\n",
       "Very Expensive      68\n",
       "Name: median_house_value, dtype: int64"
      ]
     },
     "execution_count": 27,
     "metadata": {},
     "output_type": "execute_result"
    }
   ],
   "source": [
    "data[data[\"ocean_proximity\"]==\"INLAND\"][\"median_house_value\"].value_counts() #1"
   ]
  },
  {
   "cell_type": "code",
   "execution_count": 28,
   "metadata": {},
   "outputs": [
    {
     "data": {
      "text/plain": [
       "Cheap             735\n",
       "Normal            581\n",
       "Expensive         393\n",
       "Very Expensive    356\n",
       "Very Cheap        225\n",
       "Name: median_house_value, dtype: int64"
      ]
     },
     "execution_count": 28,
     "metadata": {},
     "output_type": "execute_result"
    }
   ],
   "source": [
    "data[data[\"ocean_proximity\"]==\"NEAR BAY\"][\"median_house_value\"].value_counts() #2"
   ]
  },
  {
   "cell_type": "code",
   "execution_count": 29,
   "metadata": {},
   "outputs": [
    {
     "data": {
      "text/plain": [
       "Very Expensive    3\n",
       "Normal            2\n",
       "Name: median_house_value, dtype: int64"
      ]
     },
     "execution_count": 29,
     "metadata": {},
     "output_type": "execute_result"
    }
   ],
   "source": [
    "data[data[\"ocean_proximity\"]==\"ISLAND\"][\"median_house_value\"].value_counts() #5"
   ]
  },
  {
   "cell_type": "code",
   "execution_count": 30,
   "metadata": {},
   "outputs": [],
   "source": [
    "for i in data[\"ocean_proximity\"]:\n",
    "    if i == \"ISLAND\": \n",
    "        data[\"ocean_proximity\"].replace({i:5}, inplace=True)\n",
    "    elif i == \"<1H OCEAN\": \n",
    "        data[\"ocean_proximity\"].replace({i:4}, inplace=True)\n",
    "    elif i == \"NEAR OCEAN\": \n",
    "        data[\"ocean_proximity\"].replace({i:3}, inplace=True)\n",
    "    elif i == \"NEAR BAY\" : \n",
    "        data[\"ocean_proximity\"].replace({i:2}, inplace=True)\n",
    "    elif i == \"INLAND\" : \n",
    "        data[\"ocean_proximity\"].replace({i:1}, inplace=True)"
   ]
  },
  {
   "cell_type": "code",
   "execution_count": 31,
   "metadata": {},
   "outputs": [
    {
     "data": {
      "text/html": [
       "<div>\n",
       "<style scoped>\n",
       "    .dataframe tbody tr th:only-of-type {\n",
       "        vertical-align: middle;\n",
       "    }\n",
       "\n",
       "    .dataframe tbody tr th {\n",
       "        vertical-align: top;\n",
       "    }\n",
       "\n",
       "    .dataframe thead th {\n",
       "        text-align: right;\n",
       "    }\n",
       "</style>\n",
       "<table border=\"1\" class=\"dataframe\">\n",
       "  <thead>\n",
       "    <tr style=\"text-align: right;\">\n",
       "      <th></th>\n",
       "      <th>longitude</th>\n",
       "      <th>latitude</th>\n",
       "      <th>housing_median_age</th>\n",
       "      <th>total_rooms</th>\n",
       "      <th>total_bedrooms</th>\n",
       "      <th>population</th>\n",
       "      <th>households</th>\n",
       "      <th>median_income</th>\n",
       "      <th>median_house_value</th>\n",
       "      <th>ocean_proximity</th>\n",
       "    </tr>\n",
       "  </thead>\n",
       "  <tbody>\n",
       "    <tr>\n",
       "      <th>0</th>\n",
       "      <td>-122.23</td>\n",
       "      <td>37.88</td>\n",
       "      <td>41.0</td>\n",
       "      <td>880.0</td>\n",
       "      <td>129.0</td>\n",
       "      <td>322.0</td>\n",
       "      <td>126.0</td>\n",
       "      <td>8.3252</td>\n",
       "      <td>Very Expensive</td>\n",
       "      <td>2</td>\n",
       "    </tr>\n",
       "    <tr>\n",
       "      <th>1</th>\n",
       "      <td>-122.22</td>\n",
       "      <td>37.86</td>\n",
       "      <td>21.0</td>\n",
       "      <td>7099.0</td>\n",
       "      <td>1106.0</td>\n",
       "      <td>2401.0</td>\n",
       "      <td>1138.0</td>\n",
       "      <td>8.3014</td>\n",
       "      <td>Expensive</td>\n",
       "      <td>2</td>\n",
       "    </tr>\n",
       "    <tr>\n",
       "      <th>2</th>\n",
       "      <td>-122.24</td>\n",
       "      <td>37.85</td>\n",
       "      <td>52.0</td>\n",
       "      <td>1467.0</td>\n",
       "      <td>190.0</td>\n",
       "      <td>496.0</td>\n",
       "      <td>177.0</td>\n",
       "      <td>7.2574</td>\n",
       "      <td>Expensive</td>\n",
       "      <td>2</td>\n",
       "    </tr>\n",
       "    <tr>\n",
       "      <th>3</th>\n",
       "      <td>-122.25</td>\n",
       "      <td>37.85</td>\n",
       "      <td>52.0</td>\n",
       "      <td>1274.0</td>\n",
       "      <td>235.0</td>\n",
       "      <td>558.0</td>\n",
       "      <td>219.0</td>\n",
       "      <td>5.6431</td>\n",
       "      <td>Expensive</td>\n",
       "      <td>2</td>\n",
       "    </tr>\n",
       "    <tr>\n",
       "      <th>4</th>\n",
       "      <td>-122.25</td>\n",
       "      <td>37.85</td>\n",
       "      <td>52.0</td>\n",
       "      <td>1627.0</td>\n",
       "      <td>280.0</td>\n",
       "      <td>565.0</td>\n",
       "      <td>259.0</td>\n",
       "      <td>3.8462</td>\n",
       "      <td>Expensive</td>\n",
       "      <td>2</td>\n",
       "    </tr>\n",
       "    <tr>\n",
       "      <th>5</th>\n",
       "      <td>-122.25</td>\n",
       "      <td>37.85</td>\n",
       "      <td>52.0</td>\n",
       "      <td>919.0</td>\n",
       "      <td>213.0</td>\n",
       "      <td>413.0</td>\n",
       "      <td>193.0</td>\n",
       "      <td>4.0368</td>\n",
       "      <td>Normal</td>\n",
       "      <td>2</td>\n",
       "    </tr>\n",
       "    <tr>\n",
       "      <th>6</th>\n",
       "      <td>-122.25</td>\n",
       "      <td>37.84</td>\n",
       "      <td>52.0</td>\n",
       "      <td>2535.0</td>\n",
       "      <td>489.0</td>\n",
       "      <td>1094.0</td>\n",
       "      <td>514.0</td>\n",
       "      <td>3.6591</td>\n",
       "      <td>Normal</td>\n",
       "      <td>2</td>\n",
       "    </tr>\n",
       "    <tr>\n",
       "      <th>7</th>\n",
       "      <td>-122.25</td>\n",
       "      <td>37.84</td>\n",
       "      <td>52.0</td>\n",
       "      <td>3104.0</td>\n",
       "      <td>687.0</td>\n",
       "      <td>1157.0</td>\n",
       "      <td>647.0</td>\n",
       "      <td>3.1200</td>\n",
       "      <td>Normal</td>\n",
       "      <td>2</td>\n",
       "    </tr>\n",
       "    <tr>\n",
       "      <th>8</th>\n",
       "      <td>-122.26</td>\n",
       "      <td>37.84</td>\n",
       "      <td>42.0</td>\n",
       "      <td>2555.0</td>\n",
       "      <td>665.0</td>\n",
       "      <td>1206.0</td>\n",
       "      <td>595.0</td>\n",
       "      <td>2.0804</td>\n",
       "      <td>Normal</td>\n",
       "      <td>2</td>\n",
       "    </tr>\n",
       "    <tr>\n",
       "      <th>9</th>\n",
       "      <td>-122.25</td>\n",
       "      <td>37.84</td>\n",
       "      <td>52.0</td>\n",
       "      <td>3549.0</td>\n",
       "      <td>707.0</td>\n",
       "      <td>1551.0</td>\n",
       "      <td>714.0</td>\n",
       "      <td>3.6912</td>\n",
       "      <td>Normal</td>\n",
       "      <td>2</td>\n",
       "    </tr>\n",
       "    <tr>\n",
       "      <th>10</th>\n",
       "      <td>-122.26</td>\n",
       "      <td>37.85</td>\n",
       "      <td>52.0</td>\n",
       "      <td>2202.0</td>\n",
       "      <td>434.0</td>\n",
       "      <td>910.0</td>\n",
       "      <td>402.0</td>\n",
       "      <td>3.2031</td>\n",
       "      <td>Normal</td>\n",
       "      <td>2</td>\n",
       "    </tr>\n",
       "    <tr>\n",
       "      <th>11</th>\n",
       "      <td>-122.26</td>\n",
       "      <td>37.85</td>\n",
       "      <td>52.0</td>\n",
       "      <td>3503.0</td>\n",
       "      <td>752.0</td>\n",
       "      <td>1504.0</td>\n",
       "      <td>734.0</td>\n",
       "      <td>3.2705</td>\n",
       "      <td>Normal</td>\n",
       "      <td>2</td>\n",
       "    </tr>\n",
       "    <tr>\n",
       "      <th>12</th>\n",
       "      <td>-122.26</td>\n",
       "      <td>37.85</td>\n",
       "      <td>52.0</td>\n",
       "      <td>2491.0</td>\n",
       "      <td>474.0</td>\n",
       "      <td>1098.0</td>\n",
       "      <td>468.0</td>\n",
       "      <td>3.0750</td>\n",
       "      <td>Normal</td>\n",
       "      <td>2</td>\n",
       "    </tr>\n",
       "    <tr>\n",
       "      <th>13</th>\n",
       "      <td>-122.26</td>\n",
       "      <td>37.84</td>\n",
       "      <td>52.0</td>\n",
       "      <td>696.0</td>\n",
       "      <td>191.0</td>\n",
       "      <td>345.0</td>\n",
       "      <td>174.0</td>\n",
       "      <td>2.6736</td>\n",
       "      <td>Cheap</td>\n",
       "      <td>2</td>\n",
       "    </tr>\n",
       "    <tr>\n",
       "      <th>14</th>\n",
       "      <td>-122.26</td>\n",
       "      <td>37.85</td>\n",
       "      <td>52.0</td>\n",
       "      <td>2643.0</td>\n",
       "      <td>626.0</td>\n",
       "      <td>1212.0</td>\n",
       "      <td>620.0</td>\n",
       "      <td>1.9167</td>\n",
       "      <td>Cheap</td>\n",
       "      <td>2</td>\n",
       "    </tr>\n",
       "    <tr>\n",
       "      <th>15</th>\n",
       "      <td>-122.26</td>\n",
       "      <td>37.85</td>\n",
       "      <td>50.0</td>\n",
       "      <td>1120.0</td>\n",
       "      <td>283.0</td>\n",
       "      <td>697.0</td>\n",
       "      <td>264.0</td>\n",
       "      <td>2.1250</td>\n",
       "      <td>Cheap</td>\n",
       "      <td>2</td>\n",
       "    </tr>\n",
       "    <tr>\n",
       "      <th>16</th>\n",
       "      <td>-122.27</td>\n",
       "      <td>37.85</td>\n",
       "      <td>52.0</td>\n",
       "      <td>1966.0</td>\n",
       "      <td>347.0</td>\n",
       "      <td>793.0</td>\n",
       "      <td>331.0</td>\n",
       "      <td>2.7750</td>\n",
       "      <td>Cheap</td>\n",
       "      <td>2</td>\n",
       "    </tr>\n",
       "    <tr>\n",
       "      <th>17</th>\n",
       "      <td>-122.27</td>\n",
       "      <td>37.85</td>\n",
       "      <td>52.0</td>\n",
       "      <td>1228.0</td>\n",
       "      <td>293.0</td>\n",
       "      <td>648.0</td>\n",
       "      <td>303.0</td>\n",
       "      <td>2.1202</td>\n",
       "      <td>Cheap</td>\n",
       "      <td>2</td>\n",
       "    </tr>\n",
       "    <tr>\n",
       "      <th>18</th>\n",
       "      <td>-122.26</td>\n",
       "      <td>37.84</td>\n",
       "      <td>50.0</td>\n",
       "      <td>2239.0</td>\n",
       "      <td>455.0</td>\n",
       "      <td>990.0</td>\n",
       "      <td>419.0</td>\n",
       "      <td>1.9911</td>\n",
       "      <td>Cheap</td>\n",
       "      <td>2</td>\n",
       "    </tr>\n",
       "    <tr>\n",
       "      <th>19</th>\n",
       "      <td>-122.27</td>\n",
       "      <td>37.84</td>\n",
       "      <td>52.0</td>\n",
       "      <td>1503.0</td>\n",
       "      <td>298.0</td>\n",
       "      <td>690.0</td>\n",
       "      <td>275.0</td>\n",
       "      <td>2.6033</td>\n",
       "      <td>Cheap</td>\n",
       "      <td>2</td>\n",
       "    </tr>\n",
       "  </tbody>\n",
       "</table>\n",
       "</div>"
      ],
      "text/plain": [
       "    longitude  latitude  housing_median_age  total_rooms  total_bedrooms  \\\n",
       "0     -122.23     37.88                41.0        880.0           129.0   \n",
       "1     -122.22     37.86                21.0       7099.0          1106.0   \n",
       "2     -122.24     37.85                52.0       1467.0           190.0   \n",
       "3     -122.25     37.85                52.0       1274.0           235.0   \n",
       "4     -122.25     37.85                52.0       1627.0           280.0   \n",
       "5     -122.25     37.85                52.0        919.0           213.0   \n",
       "6     -122.25     37.84                52.0       2535.0           489.0   \n",
       "7     -122.25     37.84                52.0       3104.0           687.0   \n",
       "8     -122.26     37.84                42.0       2555.0           665.0   \n",
       "9     -122.25     37.84                52.0       3549.0           707.0   \n",
       "10    -122.26     37.85                52.0       2202.0           434.0   \n",
       "11    -122.26     37.85                52.0       3503.0           752.0   \n",
       "12    -122.26     37.85                52.0       2491.0           474.0   \n",
       "13    -122.26     37.84                52.0        696.0           191.0   \n",
       "14    -122.26     37.85                52.0       2643.0           626.0   \n",
       "15    -122.26     37.85                50.0       1120.0           283.0   \n",
       "16    -122.27     37.85                52.0       1966.0           347.0   \n",
       "17    -122.27     37.85                52.0       1228.0           293.0   \n",
       "18    -122.26     37.84                50.0       2239.0           455.0   \n",
       "19    -122.27     37.84                52.0       1503.0           298.0   \n",
       "\n",
       "    population  households  median_income median_house_value  ocean_proximity  \n",
       "0        322.0       126.0         8.3252     Very Expensive                2  \n",
       "1       2401.0      1138.0         8.3014          Expensive                2  \n",
       "2        496.0       177.0         7.2574          Expensive                2  \n",
       "3        558.0       219.0         5.6431          Expensive                2  \n",
       "4        565.0       259.0         3.8462          Expensive                2  \n",
       "5        413.0       193.0         4.0368             Normal                2  \n",
       "6       1094.0       514.0         3.6591             Normal                2  \n",
       "7       1157.0       647.0         3.1200             Normal                2  \n",
       "8       1206.0       595.0         2.0804             Normal                2  \n",
       "9       1551.0       714.0         3.6912             Normal                2  \n",
       "10       910.0       402.0         3.2031             Normal                2  \n",
       "11      1504.0       734.0         3.2705             Normal                2  \n",
       "12      1098.0       468.0         3.0750             Normal                2  \n",
       "13       345.0       174.0         2.6736              Cheap                2  \n",
       "14      1212.0       620.0         1.9167              Cheap                2  \n",
       "15       697.0       264.0         2.1250              Cheap                2  \n",
       "16       793.0       331.0         2.7750              Cheap                2  \n",
       "17       648.0       303.0         2.1202              Cheap                2  \n",
       "18       990.0       419.0         1.9911              Cheap                2  \n",
       "19       690.0       275.0         2.6033              Cheap                2  "
      ]
     },
     "execution_count": 31,
     "metadata": {},
     "output_type": "execute_result"
    }
   ],
   "source": [
    "data.head(20)"
   ]
  },
  {
   "cell_type": "code",
   "execution_count": 32,
   "metadata": {},
   "outputs": [
    {
     "data": {
      "text/plain": [
       "4    9136\n",
       "1    6551\n",
       "3    2658\n",
       "2    2290\n",
       "5       5\n",
       "Name: ocean_proximity, dtype: int64"
      ]
     },
     "execution_count": 32,
     "metadata": {},
     "output_type": "execute_result"
    }
   ],
   "source": [
    "data[\"ocean_proximity\"].value_counts()"
   ]
  },
  {
   "cell_type": "code",
   "execution_count": 33,
   "metadata": {},
   "outputs": [],
   "source": [
    "X = data.iloc[:,2:]"
   ]
  },
  {
   "cell_type": "code",
   "execution_count": 34,
   "metadata": {},
   "outputs": [],
   "source": [
    "X.drop(\"median_house_value\",axis = 1,inplace = True)\n"
   ]
  },
  {
   "cell_type": "code",
   "execution_count": 35,
   "metadata": {},
   "outputs": [
    {
     "data": {
      "text/html": [
       "<div>\n",
       "<style scoped>\n",
       "    .dataframe tbody tr th:only-of-type {\n",
       "        vertical-align: middle;\n",
       "    }\n",
       "\n",
       "    .dataframe tbody tr th {\n",
       "        vertical-align: top;\n",
       "    }\n",
       "\n",
       "    .dataframe thead th {\n",
       "        text-align: right;\n",
       "    }\n",
       "</style>\n",
       "<table border=\"1\" class=\"dataframe\">\n",
       "  <thead>\n",
       "    <tr style=\"text-align: right;\">\n",
       "      <th></th>\n",
       "      <th>housing_median_age</th>\n",
       "      <th>total_rooms</th>\n",
       "      <th>total_bedrooms</th>\n",
       "      <th>population</th>\n",
       "      <th>households</th>\n",
       "      <th>median_income</th>\n",
       "      <th>ocean_proximity</th>\n",
       "    </tr>\n",
       "  </thead>\n",
       "  <tbody>\n",
       "    <tr>\n",
       "      <th>0</th>\n",
       "      <td>41.0</td>\n",
       "      <td>880.0</td>\n",
       "      <td>129.0</td>\n",
       "      <td>322.0</td>\n",
       "      <td>126.0</td>\n",
       "      <td>8.3252</td>\n",
       "      <td>2</td>\n",
       "    </tr>\n",
       "    <tr>\n",
       "      <th>1</th>\n",
       "      <td>21.0</td>\n",
       "      <td>7099.0</td>\n",
       "      <td>1106.0</td>\n",
       "      <td>2401.0</td>\n",
       "      <td>1138.0</td>\n",
       "      <td>8.3014</td>\n",
       "      <td>2</td>\n",
       "    </tr>\n",
       "    <tr>\n",
       "      <th>2</th>\n",
       "      <td>52.0</td>\n",
       "      <td>1467.0</td>\n",
       "      <td>190.0</td>\n",
       "      <td>496.0</td>\n",
       "      <td>177.0</td>\n",
       "      <td>7.2574</td>\n",
       "      <td>2</td>\n",
       "    </tr>\n",
       "    <tr>\n",
       "      <th>3</th>\n",
       "      <td>52.0</td>\n",
       "      <td>1274.0</td>\n",
       "      <td>235.0</td>\n",
       "      <td>558.0</td>\n",
       "      <td>219.0</td>\n",
       "      <td>5.6431</td>\n",
       "      <td>2</td>\n",
       "    </tr>\n",
       "    <tr>\n",
       "      <th>4</th>\n",
       "      <td>52.0</td>\n",
       "      <td>1627.0</td>\n",
       "      <td>280.0</td>\n",
       "      <td>565.0</td>\n",
       "      <td>259.0</td>\n",
       "      <td>3.8462</td>\n",
       "      <td>2</td>\n",
       "    </tr>\n",
       "    <tr>\n",
       "      <th>5</th>\n",
       "      <td>52.0</td>\n",
       "      <td>919.0</td>\n",
       "      <td>213.0</td>\n",
       "      <td>413.0</td>\n",
       "      <td>193.0</td>\n",
       "      <td>4.0368</td>\n",
       "      <td>2</td>\n",
       "    </tr>\n",
       "    <tr>\n",
       "      <th>6</th>\n",
       "      <td>52.0</td>\n",
       "      <td>2535.0</td>\n",
       "      <td>489.0</td>\n",
       "      <td>1094.0</td>\n",
       "      <td>514.0</td>\n",
       "      <td>3.6591</td>\n",
       "      <td>2</td>\n",
       "    </tr>\n",
       "    <tr>\n",
       "      <th>7</th>\n",
       "      <td>52.0</td>\n",
       "      <td>3104.0</td>\n",
       "      <td>687.0</td>\n",
       "      <td>1157.0</td>\n",
       "      <td>647.0</td>\n",
       "      <td>3.1200</td>\n",
       "      <td>2</td>\n",
       "    </tr>\n",
       "    <tr>\n",
       "      <th>8</th>\n",
       "      <td>42.0</td>\n",
       "      <td>2555.0</td>\n",
       "      <td>665.0</td>\n",
       "      <td>1206.0</td>\n",
       "      <td>595.0</td>\n",
       "      <td>2.0804</td>\n",
       "      <td>2</td>\n",
       "    </tr>\n",
       "    <tr>\n",
       "      <th>9</th>\n",
       "      <td>52.0</td>\n",
       "      <td>3549.0</td>\n",
       "      <td>707.0</td>\n",
       "      <td>1551.0</td>\n",
       "      <td>714.0</td>\n",
       "      <td>3.6912</td>\n",
       "      <td>2</td>\n",
       "    </tr>\n",
       "    <tr>\n",
       "      <th>10</th>\n",
       "      <td>52.0</td>\n",
       "      <td>2202.0</td>\n",
       "      <td>434.0</td>\n",
       "      <td>910.0</td>\n",
       "      <td>402.0</td>\n",
       "      <td>3.2031</td>\n",
       "      <td>2</td>\n",
       "    </tr>\n",
       "    <tr>\n",
       "      <th>11</th>\n",
       "      <td>52.0</td>\n",
       "      <td>3503.0</td>\n",
       "      <td>752.0</td>\n",
       "      <td>1504.0</td>\n",
       "      <td>734.0</td>\n",
       "      <td>3.2705</td>\n",
       "      <td>2</td>\n",
       "    </tr>\n",
       "    <tr>\n",
       "      <th>12</th>\n",
       "      <td>52.0</td>\n",
       "      <td>2491.0</td>\n",
       "      <td>474.0</td>\n",
       "      <td>1098.0</td>\n",
       "      <td>468.0</td>\n",
       "      <td>3.0750</td>\n",
       "      <td>2</td>\n",
       "    </tr>\n",
       "    <tr>\n",
       "      <th>13</th>\n",
       "      <td>52.0</td>\n",
       "      <td>696.0</td>\n",
       "      <td>191.0</td>\n",
       "      <td>345.0</td>\n",
       "      <td>174.0</td>\n",
       "      <td>2.6736</td>\n",
       "      <td>2</td>\n",
       "    </tr>\n",
       "    <tr>\n",
       "      <th>14</th>\n",
       "      <td>52.0</td>\n",
       "      <td>2643.0</td>\n",
       "      <td>626.0</td>\n",
       "      <td>1212.0</td>\n",
       "      <td>620.0</td>\n",
       "      <td>1.9167</td>\n",
       "      <td>2</td>\n",
       "    </tr>\n",
       "    <tr>\n",
       "      <th>15</th>\n",
       "      <td>50.0</td>\n",
       "      <td>1120.0</td>\n",
       "      <td>283.0</td>\n",
       "      <td>697.0</td>\n",
       "      <td>264.0</td>\n",
       "      <td>2.1250</td>\n",
       "      <td>2</td>\n",
       "    </tr>\n",
       "    <tr>\n",
       "      <th>16</th>\n",
       "      <td>52.0</td>\n",
       "      <td>1966.0</td>\n",
       "      <td>347.0</td>\n",
       "      <td>793.0</td>\n",
       "      <td>331.0</td>\n",
       "      <td>2.7750</td>\n",
       "      <td>2</td>\n",
       "    </tr>\n",
       "    <tr>\n",
       "      <th>17</th>\n",
       "      <td>52.0</td>\n",
       "      <td>1228.0</td>\n",
       "      <td>293.0</td>\n",
       "      <td>648.0</td>\n",
       "      <td>303.0</td>\n",
       "      <td>2.1202</td>\n",
       "      <td>2</td>\n",
       "    </tr>\n",
       "    <tr>\n",
       "      <th>18</th>\n",
       "      <td>50.0</td>\n",
       "      <td>2239.0</td>\n",
       "      <td>455.0</td>\n",
       "      <td>990.0</td>\n",
       "      <td>419.0</td>\n",
       "      <td>1.9911</td>\n",
       "      <td>2</td>\n",
       "    </tr>\n",
       "    <tr>\n",
       "      <th>19</th>\n",
       "      <td>52.0</td>\n",
       "      <td>1503.0</td>\n",
       "      <td>298.0</td>\n",
       "      <td>690.0</td>\n",
       "      <td>275.0</td>\n",
       "      <td>2.6033</td>\n",
       "      <td>2</td>\n",
       "    </tr>\n",
       "  </tbody>\n",
       "</table>\n",
       "</div>"
      ],
      "text/plain": [
       "    housing_median_age  total_rooms  total_bedrooms  population  households  \\\n",
       "0                 41.0        880.0           129.0       322.0       126.0   \n",
       "1                 21.0       7099.0          1106.0      2401.0      1138.0   \n",
       "2                 52.0       1467.0           190.0       496.0       177.0   \n",
       "3                 52.0       1274.0           235.0       558.0       219.0   \n",
       "4                 52.0       1627.0           280.0       565.0       259.0   \n",
       "5                 52.0        919.0           213.0       413.0       193.0   \n",
       "6                 52.0       2535.0           489.0      1094.0       514.0   \n",
       "7                 52.0       3104.0           687.0      1157.0       647.0   \n",
       "8                 42.0       2555.0           665.0      1206.0       595.0   \n",
       "9                 52.0       3549.0           707.0      1551.0       714.0   \n",
       "10                52.0       2202.0           434.0       910.0       402.0   \n",
       "11                52.0       3503.0           752.0      1504.0       734.0   \n",
       "12                52.0       2491.0           474.0      1098.0       468.0   \n",
       "13                52.0        696.0           191.0       345.0       174.0   \n",
       "14                52.0       2643.0           626.0      1212.0       620.0   \n",
       "15                50.0       1120.0           283.0       697.0       264.0   \n",
       "16                52.0       1966.0           347.0       793.0       331.0   \n",
       "17                52.0       1228.0           293.0       648.0       303.0   \n",
       "18                50.0       2239.0           455.0       990.0       419.0   \n",
       "19                52.0       1503.0           298.0       690.0       275.0   \n",
       "\n",
       "    median_income  ocean_proximity  \n",
       "0          8.3252                2  \n",
       "1          8.3014                2  \n",
       "2          7.2574                2  \n",
       "3          5.6431                2  \n",
       "4          3.8462                2  \n",
       "5          4.0368                2  \n",
       "6          3.6591                2  \n",
       "7          3.1200                2  \n",
       "8          2.0804                2  \n",
       "9          3.6912                2  \n",
       "10         3.2031                2  \n",
       "11         3.2705                2  \n",
       "12         3.0750                2  \n",
       "13         2.6736                2  \n",
       "14         1.9167                2  \n",
       "15         2.1250                2  \n",
       "16         2.7750                2  \n",
       "17         2.1202                2  \n",
       "18         1.9911                2  \n",
       "19         2.6033                2  "
      ]
     },
     "execution_count": 35,
     "metadata": {},
     "output_type": "execute_result"
    }
   ],
   "source": [
    "X.head(20)"
   ]
  },
  {
   "cell_type": "code",
   "execution_count": 36,
   "metadata": {},
   "outputs": [],
   "source": [
    "X = X.iloc[:,:].values"
   ]
  },
  {
   "cell_type": "code",
   "execution_count": 37,
   "metadata": {},
   "outputs": [
    {
     "data": {
      "text/plain": [
       "array([[4.1000e+01, 8.8000e+02, 1.2900e+02, ..., 1.2600e+02, 8.3252e+00,\n",
       "        2.0000e+00],\n",
       "       [2.1000e+01, 7.0990e+03, 1.1060e+03, ..., 1.1380e+03, 8.3014e+00,\n",
       "        2.0000e+00],\n",
       "       [5.2000e+01, 1.4670e+03, 1.9000e+02, ..., 1.7700e+02, 7.2574e+00,\n",
       "        2.0000e+00],\n",
       "       ...,\n",
       "       [1.7000e+01, 2.2540e+03, 4.8500e+02, ..., 4.3300e+02, 1.7000e+00,\n",
       "        1.0000e+00],\n",
       "       [1.8000e+01, 1.8600e+03, 4.0900e+02, ..., 3.4900e+02, 1.8672e+00,\n",
       "        1.0000e+00],\n",
       "       [1.6000e+01, 2.7850e+03, 6.1600e+02, ..., 5.3000e+02, 2.3886e+00,\n",
       "        1.0000e+00]])"
      ]
     },
     "execution_count": 37,
     "metadata": {},
     "output_type": "execute_result"
    }
   ],
   "source": [
    "X"
   ]
  },
  {
   "cell_type": "code",
   "execution_count": 38,
   "metadata": {},
   "outputs": [],
   "source": [
    "y = data.iloc[:,8].values"
   ]
  },
  {
   "cell_type": "code",
   "execution_count": 39,
   "metadata": {},
   "outputs": [
    {
     "data": {
      "text/plain": [
       "array(['Very Expensive', 'Expensive', 'Expensive', ..., 'Very Cheap',\n",
       "       'Very Cheap', 'Very Cheap'], dtype=object)"
      ]
     },
     "execution_count": 39,
     "metadata": {},
     "output_type": "execute_result"
    }
   ],
   "source": [
    "y"
   ]
  },
  {
   "cell_type": "code",
   "execution_count": 40,
   "metadata": {},
   "outputs": [],
   "source": [
    "from sklearn.model_selection import train_test_split\n",
    "X_train, X_test, y_train, y_test = train_test_split(X, y, test_size = 0.25, random_state = 0)"
   ]
  },
  {
   "cell_type": "code",
   "execution_count": 41,
   "metadata": {},
   "outputs": [
    {
     "data": {
      "text/plain": [
       "array([[1.90000000e+01, 4.97600000e+03, 7.11000000e+02, ...,\n",
       "        6.25000000e+02, 7.30030000e+00, 4.00000000e+00],\n",
       "       [1.80000000e+01, 1.59100000e+03, 2.68000000e+02, ...,\n",
       "        2.43000000e+02, 5.95470000e+00, 3.00000000e+00],\n",
       "       [1.90000000e+01, 5.52000000e+02, 1.29000000e+02, ...,\n",
       "        1.06000000e+02, 3.21250000e+00, 1.00000000e+00],\n",
       "       ...,\n",
       "       [3.10000000e+01, 1.43100000e+03, 5.37870553e+02, ...,\n",
       "        3.93000000e+02, 3.19770000e+00, 3.00000000e+00],\n",
       "       [3.40000000e+01, 2.12500000e+03, 4.98000000e+02, ...,\n",
       "        4.68000000e+02, 5.63150000e+00, 4.00000000e+00],\n",
       "       [1.50000000e+01, 1.17100000e+03, 3.28000000e+02, ...,\n",
       "        2.98000000e+02, 1.38820000e+00, 1.00000000e+00]])"
      ]
     },
     "execution_count": 41,
     "metadata": {},
     "output_type": "execute_result"
    }
   ],
   "source": [
    "X_train"
   ]
  },
  {
   "cell_type": "code",
   "execution_count": 42,
   "metadata": {},
   "outputs": [
    {
     "data": {
      "text/plain": [
       "array([[2.2000e+01, 2.1010e+03, 3.9900e+02, ..., 3.7100e+02, 4.1518e+00,\n",
       "        3.0000e+00],\n",
       "       [3.2000e+01, 2.6200e+03, 3.9800e+02, ..., 4.2900e+02, 5.7796e+00,\n",
       "        4.0000e+00],\n",
       "       [2.9000e+01, 3.1670e+03, 5.4800e+02, ..., 5.3400e+02, 4.3487e+00,\n",
       "        1.0000e+00],\n",
       "       ...,\n",
       "       [1.6000e+01, 1.7180e+03, 4.6700e+02, ..., 4.7500e+02, 3.6296e+00,\n",
       "        4.0000e+00],\n",
       "       [3.7000e+01, 5.4200e+02, 1.0500e+02, ..., 1.1800e+02, 5.5133e+00,\n",
       "        4.0000e+00],\n",
       "       [3.6000e+01, 1.4470e+03, 2.7600e+02, ..., 2.7500e+02, 4.7639e+00,\n",
       "        3.0000e+00]])"
      ]
     },
     "execution_count": 42,
     "metadata": {},
     "output_type": "execute_result"
    }
   ],
   "source": [
    "X_test"
   ]
  },
  {
   "cell_type": "code",
   "execution_count": 43,
   "metadata": {},
   "outputs": [],
   "source": [
    "from sklearn.preprocessing import StandardScaler\n",
    "sc = StandardScaler()\n",
    "X_train = sc.fit_transform(X_train)\n",
    "X_test = sc.transform(X_test)"
   ]
  },
  {
   "cell_type": "code",
   "execution_count": 44,
   "metadata": {},
   "outputs": [
    {
     "name": "stderr",
     "output_type": "stream",
     "text": [
      "C:\\ProgramData\\Anaconda3\\lib\\site-packages\\sklearn\\linear_model\\logistic.py:432: FutureWarning: Default solver will be changed to 'lbfgs' in 0.22. Specify a solver to silence this warning.\n",
      "  FutureWarning)\n",
      "C:\\ProgramData\\Anaconda3\\lib\\site-packages\\sklearn\\linear_model\\logistic.py:469: FutureWarning: Default multi_class will be changed to 'auto' in 0.22. Specify the multi_class option to silence this warning.\n",
      "  \"this warning.\", FutureWarning)\n"
     ]
    },
    {
     "data": {
      "text/plain": [
       "LogisticRegression(C=1.0, class_weight=None, dual=False, fit_intercept=True,\n",
       "                   intercept_scaling=1, l1_ratio=None, max_iter=100,\n",
       "                   multi_class='warn', n_jobs=None, penalty='l2',\n",
       "                   random_state=0, solver='warn', tol=0.0001, verbose=0,\n",
       "                   warm_start=False)"
      ]
     },
     "execution_count": 44,
     "metadata": {},
     "output_type": "execute_result"
    }
   ],
   "source": [
    "# Fitting Logistic Regression to the Training set\n",
    "from sklearn.linear_model import LogisticRegression\n",
    "classifier = LogisticRegression(random_state = 0)\n",
    "classifier.fit(X_train, y_train)"
   ]
  },
  {
   "cell_type": "code",
   "execution_count": 45,
   "metadata": {},
   "outputs": [
    {
     "data": {
      "text/plain": [
       "array(['Cheap', 'Normal', 'Cheap', ..., 'Cheap', 'Normal', 'Cheap'],\n",
       "      dtype=object)"
      ]
     },
     "execution_count": 45,
     "metadata": {},
     "output_type": "execute_result"
    }
   ],
   "source": [
    "# Predicting the Test set results\n",
    "y_pred_Logistic_Regression = classifier.predict(X_test)\n",
    "y_pred_Logistic_Regression"
   ]
  },
  {
   "cell_type": "code",
   "execution_count": 46,
   "metadata": {},
   "outputs": [
    {
     "data": {
      "text/plain": [
       "array([[1605,    0,   60,  301,   11],\n",
       "       [ 173,    0,  222,    8,   97],\n",
       "       [ 733,    0,  301,   26,   47],\n",
       "       [ 324,    0,    5,  824,    3],\n",
       "       [  63,    0,  105,    6,  246]], dtype=int64)"
      ]
     },
     "execution_count": 46,
     "metadata": {},
     "output_type": "execute_result"
    }
   ],
   "source": [
    "from sklearn.metrics import confusion_matrix\n",
    "cm = confusion_matrix(y_test, y_pred_Logistic_Regression)\n",
    "cm"
   ]
  },
  {
   "cell_type": "code",
   "execution_count": 47,
   "metadata": {},
   "outputs": [
    {
     "data": {
      "text/plain": [
       "0.5767441860465117"
      ]
     },
     "execution_count": 47,
     "metadata": {},
     "output_type": "execute_result"
    }
   ],
   "source": [
    "import sklearn.metrics as metrics\n",
    "accuracy = metrics.accuracy_score(y_test,y_pred_Logistic_Regression)\n",
    "accuracy"
   ]
  },
  {
   "cell_type": "code",
   "execution_count": null,
   "metadata": {},
   "outputs": [],
   "source": []
  },
  {
   "cell_type": "code",
   "execution_count": 48,
   "metadata": {},
   "outputs": [
    {
     "data": {
      "text/plain": [
       "KNeighborsClassifier(algorithm='auto', leaf_size=30, metric='minkowski',\n",
       "                     metric_params=None, n_jobs=None, n_neighbors=5, p=2,\n",
       "                     weights='uniform')"
      ]
     },
     "execution_count": 48,
     "metadata": {},
     "output_type": "execute_result"
    }
   ],
   "source": [
    "# Fitting K-NN to the Training set\n",
    "from sklearn.neighbors import KNeighborsClassifier\n",
    "classifier = KNeighborsClassifier(n_neighbors = 5, metric = 'minkowski', p = 2)\n",
    "classifier.fit(X_train, y_train)"
   ]
  },
  {
   "cell_type": "code",
   "execution_count": null,
   "metadata": {},
   "outputs": [],
   "source": []
  },
  {
   "cell_type": "code",
   "execution_count": 49,
   "metadata": {},
   "outputs": [
    {
     "data": {
      "text/plain": [
       "array(['Cheap', 'Normal', 'Cheap', ..., 'Cheap', 'Normal', 'Cheap'],\n",
       "      dtype=object)"
      ]
     },
     "execution_count": 49,
     "metadata": {},
     "output_type": "execute_result"
    }
   ],
   "source": [
    "y_pred_K_NN = classifier.predict(X_test)\n",
    "y_pred_K_NN"
   ]
  },
  {
   "cell_type": "code",
   "execution_count": 50,
   "metadata": {},
   "outputs": [
    {
     "data": {
      "text/plain": [
       "array([[1431,   26,  255,  260,    5],\n",
       "       [ 101,  175,  172,    4,   48],\n",
       "       [ 438,  118,  507,   19,   25],\n",
       "       [ 381,    3,   16,  756,    0],\n",
       "       [  39,  107,   67,    3,  204]], dtype=int64)"
      ]
     },
     "execution_count": 50,
     "metadata": {},
     "output_type": "execute_result"
    }
   ],
   "source": [
    "# Making the Confusion Matrix\n",
    "from sklearn.metrics import confusion_matrix\n",
    "cm = confusion_matrix(y_test, y_pred_K_NN)\n",
    "cm"
   ]
  },
  {
   "cell_type": "code",
   "execution_count": 51,
   "metadata": {},
   "outputs": [
    {
     "data": {
      "text/plain": [
       "0.5955426356589147"
      ]
     },
     "execution_count": 51,
     "metadata": {},
     "output_type": "execute_result"
    }
   ],
   "source": [
    "import sklearn.metrics as metrics\n",
    "accuracy = metrics.accuracy_score(y_test,y_pred_K_NN)\n",
    "accuracy"
   ]
  },
  {
   "cell_type": "code",
   "execution_count": 52,
   "metadata": {},
   "outputs": [
    {
     "data": {
      "text/plain": [
       "SVC(C=1.0, cache_size=200, class_weight=None, coef0=0.0,\n",
       "    decision_function_shape='ovr', degree=3, gamma='auto_deprecated',\n",
       "    kernel='linear', max_iter=-1, probability=False, random_state=0,\n",
       "    shrinking=True, tol=0.001, verbose=False)"
      ]
     },
     "execution_count": 52,
     "metadata": {},
     "output_type": "execute_result"
    }
   ],
   "source": [
    "# Fitting SVM to the Training set\n",
    "from sklearn.svm import SVC\n",
    "classifier = SVC(kernel = 'linear', random_state = 0)\n",
    "classifier.fit(X_train, y_train)"
   ]
  },
  {
   "cell_type": "code",
   "execution_count": null,
   "metadata": {},
   "outputs": [],
   "source": []
  },
  {
   "cell_type": "code",
   "execution_count": 53,
   "metadata": {},
   "outputs": [
    {
     "data": {
      "text/plain": [
       "array(['Cheap', 'Normal', 'Cheap', ..., 'Cheap', 'Normal', 'Normal'],\n",
       "      dtype=object)"
      ]
     },
     "execution_count": 53,
     "metadata": {},
     "output_type": "execute_result"
    }
   ],
   "source": [
    "# Predicting the Test set results\n",
    "y_pred_SVM_linear = classifier.predict(X_test)\n",
    "y_pred_SVM_linear"
   ]
  },
  {
   "cell_type": "code",
   "execution_count": 54,
   "metadata": {},
   "outputs": [
    {
     "data": {
      "text/plain": [
       "array([[1451,    1,  267,  253,    5],\n",
       "       [  90,   43,  295,    5,   67],\n",
       "       [ 438,   15,  594,   24,   36],\n",
       "       [ 338,    1,    8,  807,    2],\n",
       "       [  35,   26,  120,    6,  233]], dtype=int64)"
      ]
     },
     "execution_count": 54,
     "metadata": {},
     "output_type": "execute_result"
    }
   ],
   "source": [
    "# Making the Confusion Matrix\n",
    "from sklearn.metrics import confusion_matrix\n",
    "cm = confusion_matrix(y_test, y_pred_SVM_linear)\n",
    "cm"
   ]
  },
  {
   "cell_type": "code",
   "execution_count": 55,
   "metadata": {},
   "outputs": [
    {
     "data": {
      "text/plain": [
       "0.6062015503875969"
      ]
     },
     "execution_count": 55,
     "metadata": {},
     "output_type": "execute_result"
    }
   ],
   "source": [
    "import sklearn.metrics as metrics\n",
    "accuracy = metrics.accuracy_score(y_test,y_pred_SVM_linear)\n",
    "accuracy"
   ]
  },
  {
   "cell_type": "code",
   "execution_count": 56,
   "metadata": {},
   "outputs": [
    {
     "data": {
      "text/plain": [
       "SVC(C=1.0, cache_size=200, class_weight=None, coef0=0.0,\n",
       "    decision_function_shape='ovr', degree=3, gamma='auto_deprecated',\n",
       "    kernel='rbf', max_iter=-1, probability=False, random_state=0,\n",
       "    shrinking=True, tol=0.001, verbose=False)"
      ]
     },
     "execution_count": 56,
     "metadata": {},
     "output_type": "execute_result"
    }
   ],
   "source": [
    "# Fitting SVM woth another kernal to the Training set \n",
    "from sklearn.svm import SVC\n",
    "classifier = SVC(kernel = 'rbf', random_state = 0)\n",
    "classifier.fit(X_train, y_train)"
   ]
  },
  {
   "cell_type": "code",
   "execution_count": 57,
   "metadata": {},
   "outputs": [
    {
     "data": {
      "text/plain": [
       "array(['Cheap', 'Normal', 'Cheap', ..., 'Cheap', 'Normal', 'Normal'],\n",
       "      dtype=object)"
      ]
     },
     "execution_count": 57,
     "metadata": {},
     "output_type": "execute_result"
    }
   ],
   "source": [
    "# Predicting the Test set results\n",
    "y_pred_SVM_rbf = classifier.predict(X_test)\n",
    "y_pred_SVM_rbf"
   ]
  },
  {
   "cell_type": "code",
   "execution_count": 58,
   "metadata": {},
   "outputs": [
    {
     "data": {
      "text/plain": [
       "array([[1572,    2,  181,  217,    5],\n",
       "       [  93,  105,  246,    3,   53],\n",
       "       [ 458,   32,  580,   16,   21],\n",
       "       [ 339,    0,    8,  809,    0],\n",
       "       [  32,   63,  103,    3,  219]], dtype=int64)"
      ]
     },
     "execution_count": 58,
     "metadata": {},
     "output_type": "execute_result"
    }
   ],
   "source": [
    "# Making the Confusion Matrix\n",
    "from sklearn.metrics import confusion_matrix\n",
    "cm = confusion_matrix(y_test, y_pred_SVM_rbf)\n",
    "cm"
   ]
  },
  {
   "cell_type": "code",
   "execution_count": 59,
   "metadata": {},
   "outputs": [
    {
     "data": {
      "text/plain": [
       "0.6366279069767442"
      ]
     },
     "execution_count": 59,
     "metadata": {},
     "output_type": "execute_result"
    }
   ],
   "source": [
    "import sklearn.metrics as metrics\n",
    "accuracy = metrics.accuracy_score(y_test,y_pred_SVM_rbf)\n",
    "accuracy"
   ]
  },
  {
   "cell_type": "code",
   "execution_count": 60,
   "metadata": {},
   "outputs": [
    {
     "data": {
      "text/plain": [
       "GaussianNB(priors=None, var_smoothing=1e-09)"
      ]
     },
     "execution_count": 60,
     "metadata": {},
     "output_type": "execute_result"
    }
   ],
   "source": [
    "# Fitting Naive Bayes to the Training set\n",
    "from sklearn.naive_bayes import GaussianNB\n",
    "classifier = GaussianNB()\n",
    "classifier.fit(X_train, y_train)"
   ]
  },
  {
   "cell_type": "code",
   "execution_count": 61,
   "metadata": {},
   "outputs": [
    {
     "data": {
      "text/plain": [
       "array(['Cheap', 'Normal', 'Cheap', ..., 'Cheap', 'Normal', 'Normal'],\n",
       "      dtype='<U14')"
      ]
     },
     "execution_count": 61,
     "metadata": {},
     "output_type": "execute_result"
    }
   ],
   "source": [
    "# Predicting the Test set results\n",
    "y_pred_Naive_Bayes = classifier.predict(X_test)\n",
    "y_pred_Naive_Bayes"
   ]
  },
  {
   "cell_type": "code",
   "execution_count": 62,
   "metadata": {},
   "outputs": [
    {
     "data": {
      "text/plain": [
       "array([[1222,   16,  208,  524,    7],\n",
       "       [ 146,   21,  182,   34,  117],\n",
       "       [ 483,   34,  439,  106,   45],\n",
       "       [ 236,    2,    4,  914,    0],\n",
       "       [  82,   16,   83,   17,  222]], dtype=int64)"
      ]
     },
     "execution_count": 62,
     "metadata": {},
     "output_type": "execute_result"
    }
   ],
   "source": [
    "# Making the Confusion Matrix\n",
    "from sklearn.metrics import confusion_matrix\n",
    "cm = confusion_matrix(y_test, y_pred_Naive_Bayes)\n",
    "cm"
   ]
  },
  {
   "cell_type": "code",
   "execution_count": 63,
   "metadata": {},
   "outputs": [
    {
     "data": {
      "text/plain": [
       "0.546124031007752"
      ]
     },
     "execution_count": 63,
     "metadata": {},
     "output_type": "execute_result"
    }
   ],
   "source": [
    "import sklearn.metrics as metrics\n",
    "accuracy = metrics.accuracy_score(y_test,y_pred_Naive_Bayes)\n",
    "accuracy"
   ]
  },
  {
   "cell_type": "code",
   "execution_count": null,
   "metadata": {},
   "outputs": [],
   "source": []
  },
  {
   "cell_type": "code",
   "execution_count": null,
   "metadata": {},
   "outputs": [],
   "source": []
  },
  {
   "cell_type": "code",
   "execution_count": 64,
   "metadata": {},
   "outputs": [
    {
     "data": {
      "text/plain": [
       "DecisionTreeClassifier(class_weight=None, criterion='entropy', max_depth=None,\n",
       "                       max_features=None, max_leaf_nodes=None,\n",
       "                       min_impurity_decrease=0.0, min_impurity_split=None,\n",
       "                       min_samples_leaf=1, min_samples_split=2,\n",
       "                       min_weight_fraction_leaf=0.0, presort=False,\n",
       "                       random_state=0, splitter='best')"
      ]
     },
     "execution_count": 64,
     "metadata": {},
     "output_type": "execute_result"
    }
   ],
   "source": [
    "# Fitting Decision Tree Classification to the Training set\n",
    "from sklearn.tree import DecisionTreeClassifier\n",
    "classifier = DecisionTreeClassifier(criterion = 'entropy', random_state = 0)\n",
    "classifier.fit(X_train, y_train)"
   ]
  },
  {
   "cell_type": "code",
   "execution_count": null,
   "metadata": {},
   "outputs": [],
   "source": []
  },
  {
   "cell_type": "code",
   "execution_count": null,
   "metadata": {},
   "outputs": [],
   "source": []
  },
  {
   "cell_type": "code",
   "execution_count": 65,
   "metadata": {},
   "outputs": [
    {
     "data": {
      "text/plain": [
       "array(['Cheap', 'Normal', 'Cheap', ..., 'Cheap', 'Normal', 'Cheap'],\n",
       "      dtype=object)"
      ]
     },
     "execution_count": 65,
     "metadata": {},
     "output_type": "execute_result"
    }
   ],
   "source": [
    "# Predicting the Test set results\n",
    "y_pred_Decision_Tree = classifier.predict(X_test)\n",
    "y_pred_Decision_Tree"
   ]
  },
  {
   "cell_type": "code",
   "execution_count": 66,
   "metadata": {},
   "outputs": [
    {
     "data": {
      "text/plain": [
       "array([[1189,   75,  348,  337,   28],\n",
       "       [  74,  154,  162,   15,   95],\n",
       "       [ 355,  151,  478,   43,   80],\n",
       "       [ 350,   17,   52,  729,    8],\n",
       "       [  28,  109,   67,    5,  211]], dtype=int64)"
      ]
     },
     "execution_count": 66,
     "metadata": {},
     "output_type": "execute_result"
    }
   ],
   "source": [
    "# Making the Confusion Matrix\n",
    "from sklearn.metrics import confusion_matrix\n",
    "cm = confusion_matrix(y_test, y_pred_Decision_Tree)\n",
    "cm"
   ]
  },
  {
   "cell_type": "code",
   "execution_count": 67,
   "metadata": {},
   "outputs": [
    {
     "data": {
      "text/plain": [
       "0.5350775193798449"
      ]
     },
     "execution_count": 67,
     "metadata": {},
     "output_type": "execute_result"
    }
   ],
   "source": [
    "import sklearn.metrics as metrics\n",
    "accuracy = metrics.accuracy_score(y_test,y_pred_Decision_Tree)\n",
    "accuracy"
   ]
  },
  {
   "cell_type": "code",
   "execution_count": 68,
   "metadata": {},
   "outputs": [
    {
     "data": {
      "text/plain": [
       "RandomForestClassifier(bootstrap=True, class_weight=None, criterion='entropy',\n",
       "                       max_depth=None, max_features='auto', max_leaf_nodes=None,\n",
       "                       min_impurity_decrease=0.0, min_impurity_split=None,\n",
       "                       min_samples_leaf=1, min_samples_split=2,\n",
       "                       min_weight_fraction_leaf=0.0, n_estimators=10,\n",
       "                       n_jobs=None, oob_score=False, random_state=0, verbose=0,\n",
       "                       warm_start=False)"
      ]
     },
     "execution_count": 68,
     "metadata": {},
     "output_type": "execute_result"
    }
   ],
   "source": [
    "# Fitting Random Forest Classification to the Training set\n",
    "from sklearn.ensemble import RandomForestClassifier\n",
    "classifier = RandomForestClassifier(n_estimators = 10, criterion = 'entropy', random_state = 0)\n",
    "classifier.fit(X_train, y_train)"
   ]
  },
  {
   "cell_type": "code",
   "execution_count": 69,
   "metadata": {},
   "outputs": [
    {
     "data": {
      "text/plain": [
       "array(['Cheap', 'Normal', 'Cheap', ..., 'Cheap', 'Cheap', 'Normal'],\n",
       "      dtype=object)"
      ]
     },
     "execution_count": 69,
     "metadata": {},
     "output_type": "execute_result"
    }
   ],
   "source": [
    "# Predicting the Test set results\n",
    "y_pred_Random_Forest = classifier.predict(X_test)\n",
    "y_pred_Random_Forest"
   ]
  },
  {
   "cell_type": "code",
   "execution_count": null,
   "metadata": {},
   "outputs": [],
   "source": []
  },
  {
   "cell_type": "code",
   "execution_count": null,
   "metadata": {},
   "outputs": [],
   "source": []
  },
  {
   "cell_type": "code",
   "execution_count": 70,
   "metadata": {},
   "outputs": [
    {
     "data": {
      "text/plain": [
       "array([[1459,   20,  254,  235,    9],\n",
       "       [  94,  145,  169,    8,   84],\n",
       "       [ 468,  104,  482,   19,   34],\n",
       "       [ 361,    3,   23,  769,    0],\n",
       "       [  38,  104,   66,    3,  209]], dtype=int64)"
      ]
     },
     "execution_count": 70,
     "metadata": {},
     "output_type": "execute_result"
    }
   ],
   "source": [
    "# Making the Confusion Matrix\n",
    "from sklearn.metrics import confusion_matrix\n",
    "cm = confusion_matrix(y_test, y_pred_Random_Forest)\n",
    "cm"
   ]
  },
  {
   "cell_type": "code",
   "execution_count": null,
   "metadata": {},
   "outputs": [],
   "source": []
  },
  {
   "cell_type": "code",
   "execution_count": 71,
   "metadata": {},
   "outputs": [
    {
     "data": {
      "text/plain": [
       "0.5937984496124031"
      ]
     },
     "execution_count": 71,
     "metadata": {},
     "output_type": "execute_result"
    }
   ],
   "source": [
    "import sklearn.metrics as metrics\n",
    "accuracy = metrics.accuracy_score(y_test,y_pred_Random_Forest)\n",
    "accuracy"
   ]
  },
  {
   "cell_type": "code",
   "execution_count": null,
   "metadata": {},
   "outputs": [],
   "source": []
  },
  {
   "cell_type": "code",
   "execution_count": null,
   "metadata": {},
   "outputs": [],
   "source": []
  },
  {
   "cell_type": "code",
   "execution_count": 72,
   "metadata": {},
   "outputs": [
    {
     "data": {
      "text/html": [
       "<div>\n",
       "<style scoped>\n",
       "    .dataframe tbody tr th:only-of-type {\n",
       "        vertical-align: middle;\n",
       "    }\n",
       "\n",
       "    .dataframe tbody tr th {\n",
       "        vertical-align: top;\n",
       "    }\n",
       "\n",
       "    .dataframe thead th {\n",
       "        text-align: right;\n",
       "    }\n",
       "</style>\n",
       "<table border=\"1\" class=\"dataframe\">\n",
       "  <thead>\n",
       "    <tr style=\"text-align: right;\">\n",
       "      <th></th>\n",
       "      <th>y_test</th>\n",
       "      <th>y_pred_Logistic_Regression</th>\n",
       "      <th>y_pred_K_NN</th>\n",
       "      <th>y_pred_SVM_linear</th>\n",
       "      <th>y_pred_SVM_rbf</th>\n",
       "      <th>y_pred_Naive_Bayes</th>\n",
       "      <th>y_pred_Decision_Tree</th>\n",
       "      <th>y_pred_Random_Forest</th>\n",
       "    </tr>\n",
       "  </thead>\n",
       "  <tbody>\n",
       "    <tr>\n",
       "      <th>0</th>\n",
       "      <td>Cheap</td>\n",
       "      <td>Cheap</td>\n",
       "      <td>Cheap</td>\n",
       "      <td>Cheap</td>\n",
       "      <td>Cheap</td>\n",
       "      <td>Cheap</td>\n",
       "      <td>Cheap</td>\n",
       "      <td>Cheap</td>\n",
       "    </tr>\n",
       "    <tr>\n",
       "      <th>1</th>\n",
       "      <td>Normal</td>\n",
       "      <td>Normal</td>\n",
       "      <td>Normal</td>\n",
       "      <td>Normal</td>\n",
       "      <td>Normal</td>\n",
       "      <td>Normal</td>\n",
       "      <td>Normal</td>\n",
       "      <td>Normal</td>\n",
       "    </tr>\n",
       "    <tr>\n",
       "      <th>2</th>\n",
       "      <td>Cheap</td>\n",
       "      <td>Cheap</td>\n",
       "      <td>Cheap</td>\n",
       "      <td>Cheap</td>\n",
       "      <td>Cheap</td>\n",
       "      <td>Cheap</td>\n",
       "      <td>Cheap</td>\n",
       "      <td>Cheap</td>\n",
       "    </tr>\n",
       "    <tr>\n",
       "      <th>3</th>\n",
       "      <td>Very Cheap</td>\n",
       "      <td>Very Cheap</td>\n",
       "      <td>Very Cheap</td>\n",
       "      <td>Very Cheap</td>\n",
       "      <td>Very Cheap</td>\n",
       "      <td>Very Cheap</td>\n",
       "      <td>Very Cheap</td>\n",
       "      <td>Very Cheap</td>\n",
       "    </tr>\n",
       "    <tr>\n",
       "      <th>4</th>\n",
       "      <td>Very Expensive</td>\n",
       "      <td>Cheap</td>\n",
       "      <td>Normal</td>\n",
       "      <td>Normal</td>\n",
       "      <td>Normal</td>\n",
       "      <td>Cheap</td>\n",
       "      <td>Expensive</td>\n",
       "      <td>Normal</td>\n",
       "    </tr>\n",
       "    <tr>\n",
       "      <th>5</th>\n",
       "      <td>Cheap</td>\n",
       "      <td>Very Cheap</td>\n",
       "      <td>Very Cheap</td>\n",
       "      <td>Very Cheap</td>\n",
       "      <td>Cheap</td>\n",
       "      <td>Very Cheap</td>\n",
       "      <td>Very Cheap</td>\n",
       "      <td>Cheap</td>\n",
       "    </tr>\n",
       "    <tr>\n",
       "      <th>6</th>\n",
       "      <td>Normal</td>\n",
       "      <td>Cheap</td>\n",
       "      <td>Normal</td>\n",
       "      <td>Normal</td>\n",
       "      <td>Normal</td>\n",
       "      <td>Normal</td>\n",
       "      <td>Normal</td>\n",
       "      <td>Normal</td>\n",
       "    </tr>\n",
       "    <tr>\n",
       "      <th>7</th>\n",
       "      <td>Expensive</td>\n",
       "      <td>Normal</td>\n",
       "      <td>Normal</td>\n",
       "      <td>Expensive</td>\n",
       "      <td>Normal</td>\n",
       "      <td>Normal</td>\n",
       "      <td>Very Expensive</td>\n",
       "      <td>Normal</td>\n",
       "    </tr>\n",
       "    <tr>\n",
       "      <th>8</th>\n",
       "      <td>Expensive</td>\n",
       "      <td>Normal</td>\n",
       "      <td>Expensive</td>\n",
       "      <td>Normal</td>\n",
       "      <td>Normal</td>\n",
       "      <td>Normal</td>\n",
       "      <td>Expensive</td>\n",
       "      <td>Normal</td>\n",
       "    </tr>\n",
       "    <tr>\n",
       "      <th>9</th>\n",
       "      <td>Normal</td>\n",
       "      <td>Cheap</td>\n",
       "      <td>Cheap</td>\n",
       "      <td>Normal</td>\n",
       "      <td>Cheap</td>\n",
       "      <td>Cheap</td>\n",
       "      <td>Normal</td>\n",
       "      <td>Normal</td>\n",
       "    </tr>\n",
       "    <tr>\n",
       "      <th>10</th>\n",
       "      <td>Normal</td>\n",
       "      <td>Cheap</td>\n",
       "      <td>Cheap</td>\n",
       "      <td>Cheap</td>\n",
       "      <td>Cheap</td>\n",
       "      <td>Cheap</td>\n",
       "      <td>Expensive</td>\n",
       "      <td>Normal</td>\n",
       "    </tr>\n",
       "    <tr>\n",
       "      <th>11</th>\n",
       "      <td>Very Cheap</td>\n",
       "      <td>Very Cheap</td>\n",
       "      <td>Very Cheap</td>\n",
       "      <td>Very Cheap</td>\n",
       "      <td>Very Cheap</td>\n",
       "      <td>Very Cheap</td>\n",
       "      <td>Very Cheap</td>\n",
       "      <td>Very Cheap</td>\n",
       "    </tr>\n",
       "    <tr>\n",
       "      <th>12</th>\n",
       "      <td>Very Cheap</td>\n",
       "      <td>Very Cheap</td>\n",
       "      <td>Very Cheap</td>\n",
       "      <td>Very Cheap</td>\n",
       "      <td>Very Cheap</td>\n",
       "      <td>Very Cheap</td>\n",
       "      <td>Very Cheap</td>\n",
       "      <td>Very Cheap</td>\n",
       "    </tr>\n",
       "    <tr>\n",
       "      <th>13</th>\n",
       "      <td>Cheap</td>\n",
       "      <td>Very Cheap</td>\n",
       "      <td>Cheap</td>\n",
       "      <td>Very Cheap</td>\n",
       "      <td>Cheap</td>\n",
       "      <td>Very Cheap</td>\n",
       "      <td>Very Expensive</td>\n",
       "      <td>Cheap</td>\n",
       "    </tr>\n",
       "    <tr>\n",
       "      <th>14</th>\n",
       "      <td>Normal</td>\n",
       "      <td>Cheap</td>\n",
       "      <td>Cheap</td>\n",
       "      <td>Cheap</td>\n",
       "      <td>Cheap</td>\n",
       "      <td>Cheap</td>\n",
       "      <td>Very Cheap</td>\n",
       "      <td>Cheap</td>\n",
       "    </tr>\n",
       "    <tr>\n",
       "      <th>15</th>\n",
       "      <td>Normal</td>\n",
       "      <td>Cheap</td>\n",
       "      <td>Cheap</td>\n",
       "      <td>Normal</td>\n",
       "      <td>Normal</td>\n",
       "      <td>Cheap</td>\n",
       "      <td>Normal</td>\n",
       "      <td>Normal</td>\n",
       "    </tr>\n",
       "    <tr>\n",
       "      <th>16</th>\n",
       "      <td>Expensive</td>\n",
       "      <td>Normal</td>\n",
       "      <td>Expensive</td>\n",
       "      <td>Normal</td>\n",
       "      <td>Expensive</td>\n",
       "      <td>Very Expensive</td>\n",
       "      <td>Very Expensive</td>\n",
       "      <td>Expensive</td>\n",
       "    </tr>\n",
       "    <tr>\n",
       "      <th>17</th>\n",
       "      <td>Normal</td>\n",
       "      <td>Very Cheap</td>\n",
       "      <td>Normal</td>\n",
       "      <td>Very Cheap</td>\n",
       "      <td>Cheap</td>\n",
       "      <td>Very Cheap</td>\n",
       "      <td>Cheap</td>\n",
       "      <td>Cheap</td>\n",
       "    </tr>\n",
       "    <tr>\n",
       "      <th>18</th>\n",
       "      <td>Cheap</td>\n",
       "      <td>Very Cheap</td>\n",
       "      <td>Cheap</td>\n",
       "      <td>Cheap</td>\n",
       "      <td>Cheap</td>\n",
       "      <td>Very Cheap</td>\n",
       "      <td>Cheap</td>\n",
       "      <td>Cheap</td>\n",
       "    </tr>\n",
       "    <tr>\n",
       "      <th>19</th>\n",
       "      <td>Expensive</td>\n",
       "      <td>Very Expensive</td>\n",
       "      <td>Very Expensive</td>\n",
       "      <td>Normal</td>\n",
       "      <td>Expensive</td>\n",
       "      <td>Cheap</td>\n",
       "      <td>Very Expensive</td>\n",
       "      <td>Very Expensive</td>\n",
       "    </tr>\n",
       "    <tr>\n",
       "      <th>20</th>\n",
       "      <td>Cheap</td>\n",
       "      <td>Cheap</td>\n",
       "      <td>Very Cheap</td>\n",
       "      <td>Cheap</td>\n",
       "      <td>Cheap</td>\n",
       "      <td>Cheap</td>\n",
       "      <td>Very Cheap</td>\n",
       "      <td>Normal</td>\n",
       "    </tr>\n",
       "    <tr>\n",
       "      <th>21</th>\n",
       "      <td>Very Cheap</td>\n",
       "      <td>Very Cheap</td>\n",
       "      <td>Very Cheap</td>\n",
       "      <td>Very Cheap</td>\n",
       "      <td>Very Cheap</td>\n",
       "      <td>Very Cheap</td>\n",
       "      <td>Very Cheap</td>\n",
       "      <td>Very Cheap</td>\n",
       "    </tr>\n",
       "    <tr>\n",
       "      <th>22</th>\n",
       "      <td>Normal</td>\n",
       "      <td>Cheap</td>\n",
       "      <td>Normal</td>\n",
       "      <td>Normal</td>\n",
       "      <td>Normal</td>\n",
       "      <td>Normal</td>\n",
       "      <td>Very Expensive</td>\n",
       "      <td>Normal</td>\n",
       "    </tr>\n",
       "    <tr>\n",
       "      <th>23</th>\n",
       "      <td>Expensive</td>\n",
       "      <td>Cheap</td>\n",
       "      <td>Cheap</td>\n",
       "      <td>Normal</td>\n",
       "      <td>Cheap</td>\n",
       "      <td>Normal</td>\n",
       "      <td>Cheap</td>\n",
       "      <td>Normal</td>\n",
       "    </tr>\n",
       "    <tr>\n",
       "      <th>24</th>\n",
       "      <td>Cheap</td>\n",
       "      <td>Cheap</td>\n",
       "      <td>Cheap</td>\n",
       "      <td>Cheap</td>\n",
       "      <td>Cheap</td>\n",
       "      <td>Cheap</td>\n",
       "      <td>Cheap</td>\n",
       "      <td>Cheap</td>\n",
       "    </tr>\n",
       "    <tr>\n",
       "      <th>25</th>\n",
       "      <td>Cheap</td>\n",
       "      <td>Cheap</td>\n",
       "      <td>Cheap</td>\n",
       "      <td>Cheap</td>\n",
       "      <td>Cheap</td>\n",
       "      <td>Cheap</td>\n",
       "      <td>Cheap</td>\n",
       "      <td>Cheap</td>\n",
       "    </tr>\n",
       "    <tr>\n",
       "      <th>26</th>\n",
       "      <td>Cheap</td>\n",
       "      <td>Cheap</td>\n",
       "      <td>Cheap</td>\n",
       "      <td>Cheap</td>\n",
       "      <td>Cheap</td>\n",
       "      <td>Cheap</td>\n",
       "      <td>Normal</td>\n",
       "      <td>Cheap</td>\n",
       "    </tr>\n",
       "    <tr>\n",
       "      <th>27</th>\n",
       "      <td>Cheap</td>\n",
       "      <td>Cheap</td>\n",
       "      <td>Normal</td>\n",
       "      <td>Cheap</td>\n",
       "      <td>Cheap</td>\n",
       "      <td>Very Cheap</td>\n",
       "      <td>Cheap</td>\n",
       "      <td>Cheap</td>\n",
       "    </tr>\n",
       "    <tr>\n",
       "      <th>28</th>\n",
       "      <td>Very Cheap</td>\n",
       "      <td>Very Cheap</td>\n",
       "      <td>Cheap</td>\n",
       "      <td>Very Cheap</td>\n",
       "      <td>Cheap</td>\n",
       "      <td>Very Cheap</td>\n",
       "      <td>Cheap</td>\n",
       "      <td>Cheap</td>\n",
       "    </tr>\n",
       "    <tr>\n",
       "      <th>29</th>\n",
       "      <td>Very Cheap</td>\n",
       "      <td>Very Cheap</td>\n",
       "      <td>Very Cheap</td>\n",
       "      <td>Very Cheap</td>\n",
       "      <td>Very Cheap</td>\n",
       "      <td>Very Cheap</td>\n",
       "      <td>Very Cheap</td>\n",
       "      <td>Very Cheap</td>\n",
       "    </tr>\n",
       "    <tr>\n",
       "      <th>...</th>\n",
       "      <td>...</td>\n",
       "      <td>...</td>\n",
       "      <td>...</td>\n",
       "      <td>...</td>\n",
       "      <td>...</td>\n",
       "      <td>...</td>\n",
       "      <td>...</td>\n",
       "      <td>...</td>\n",
       "    </tr>\n",
       "    <tr>\n",
       "      <th>5130</th>\n",
       "      <td>Very Cheap</td>\n",
       "      <td>Cheap</td>\n",
       "      <td>Very Cheap</td>\n",
       "      <td>Cheap</td>\n",
       "      <td>Cheap</td>\n",
       "      <td>Cheap</td>\n",
       "      <td>Cheap</td>\n",
       "      <td>Cheap</td>\n",
       "    </tr>\n",
       "    <tr>\n",
       "      <th>5131</th>\n",
       "      <td>Cheap</td>\n",
       "      <td>Cheap</td>\n",
       "      <td>Normal</td>\n",
       "      <td>Normal</td>\n",
       "      <td>Cheap</td>\n",
       "      <td>Cheap</td>\n",
       "      <td>Normal</td>\n",
       "      <td>Normal</td>\n",
       "    </tr>\n",
       "    <tr>\n",
       "      <th>5132</th>\n",
       "      <td>Normal</td>\n",
       "      <td>Cheap</td>\n",
       "      <td>Very Expensive</td>\n",
       "      <td>Cheap</td>\n",
       "      <td>Cheap</td>\n",
       "      <td>Very Cheap</td>\n",
       "      <td>Very Expensive</td>\n",
       "      <td>Cheap</td>\n",
       "    </tr>\n",
       "    <tr>\n",
       "      <th>5133</th>\n",
       "      <td>Cheap</td>\n",
       "      <td>Normal</td>\n",
       "      <td>Cheap</td>\n",
       "      <td>Normal</td>\n",
       "      <td>Cheap</td>\n",
       "      <td>Expensive</td>\n",
       "      <td>Cheap</td>\n",
       "      <td>Cheap</td>\n",
       "    </tr>\n",
       "    <tr>\n",
       "      <th>5134</th>\n",
       "      <td>Very Expensive</td>\n",
       "      <td>Normal</td>\n",
       "      <td>Very Expensive</td>\n",
       "      <td>Normal</td>\n",
       "      <td>Expensive</td>\n",
       "      <td>Very Expensive</td>\n",
       "      <td>Expensive</td>\n",
       "      <td>Very Expensive</td>\n",
       "    </tr>\n",
       "    <tr>\n",
       "      <th>5135</th>\n",
       "      <td>Cheap</td>\n",
       "      <td>Cheap</td>\n",
       "      <td>Cheap</td>\n",
       "      <td>Cheap</td>\n",
       "      <td>Cheap</td>\n",
       "      <td>Cheap</td>\n",
       "      <td>Cheap</td>\n",
       "      <td>Cheap</td>\n",
       "    </tr>\n",
       "    <tr>\n",
       "      <th>5136</th>\n",
       "      <td>Cheap</td>\n",
       "      <td>Cheap</td>\n",
       "      <td>Cheap</td>\n",
       "      <td>Cheap</td>\n",
       "      <td>Cheap</td>\n",
       "      <td>Cheap</td>\n",
       "      <td>Cheap</td>\n",
       "      <td>Cheap</td>\n",
       "    </tr>\n",
       "    <tr>\n",
       "      <th>5137</th>\n",
       "      <td>Cheap</td>\n",
       "      <td>Very Cheap</td>\n",
       "      <td>Cheap</td>\n",
       "      <td>Cheap</td>\n",
       "      <td>Cheap</td>\n",
       "      <td>Cheap</td>\n",
       "      <td>Cheap</td>\n",
       "      <td>Cheap</td>\n",
       "    </tr>\n",
       "    <tr>\n",
       "      <th>5138</th>\n",
       "      <td>Very Cheap</td>\n",
       "      <td>Very Cheap</td>\n",
       "      <td>Very Cheap</td>\n",
       "      <td>Very Cheap</td>\n",
       "      <td>Very Cheap</td>\n",
       "      <td>Very Cheap</td>\n",
       "      <td>Cheap</td>\n",
       "      <td>Very Cheap</td>\n",
       "    </tr>\n",
       "    <tr>\n",
       "      <th>5139</th>\n",
       "      <td>Cheap</td>\n",
       "      <td>Cheap</td>\n",
       "      <td>Cheap</td>\n",
       "      <td>Cheap</td>\n",
       "      <td>Cheap</td>\n",
       "      <td>Very Cheap</td>\n",
       "      <td>Cheap</td>\n",
       "      <td>Cheap</td>\n",
       "    </tr>\n",
       "    <tr>\n",
       "      <th>5140</th>\n",
       "      <td>Cheap</td>\n",
       "      <td>Very Cheap</td>\n",
       "      <td>Very Cheap</td>\n",
       "      <td>Cheap</td>\n",
       "      <td>Very Cheap</td>\n",
       "      <td>Very Cheap</td>\n",
       "      <td>Very Cheap</td>\n",
       "      <td>Very Cheap</td>\n",
       "    </tr>\n",
       "    <tr>\n",
       "      <th>5141</th>\n",
       "      <td>Very Cheap</td>\n",
       "      <td>Very Cheap</td>\n",
       "      <td>Very Cheap</td>\n",
       "      <td>Very Cheap</td>\n",
       "      <td>Very Cheap</td>\n",
       "      <td>Very Cheap</td>\n",
       "      <td>Very Cheap</td>\n",
       "      <td>Very Cheap</td>\n",
       "    </tr>\n",
       "    <tr>\n",
       "      <th>5142</th>\n",
       "      <td>Cheap</td>\n",
       "      <td>Cheap</td>\n",
       "      <td>Normal</td>\n",
       "      <td>Cheap</td>\n",
       "      <td>Cheap</td>\n",
       "      <td>Very Cheap</td>\n",
       "      <td>Expensive</td>\n",
       "      <td>Cheap</td>\n",
       "    </tr>\n",
       "    <tr>\n",
       "      <th>5143</th>\n",
       "      <td>Very Cheap</td>\n",
       "      <td>Very Cheap</td>\n",
       "      <td>Very Cheap</td>\n",
       "      <td>Very Cheap</td>\n",
       "      <td>Very Cheap</td>\n",
       "      <td>Very Cheap</td>\n",
       "      <td>Very Cheap</td>\n",
       "      <td>Very Cheap</td>\n",
       "    </tr>\n",
       "    <tr>\n",
       "      <th>5144</th>\n",
       "      <td>Normal</td>\n",
       "      <td>Cheap</td>\n",
       "      <td>Expensive</td>\n",
       "      <td>Normal</td>\n",
       "      <td>Normal</td>\n",
       "      <td>Cheap</td>\n",
       "      <td>Normal</td>\n",
       "      <td>Normal</td>\n",
       "    </tr>\n",
       "    <tr>\n",
       "      <th>5145</th>\n",
       "      <td>Cheap</td>\n",
       "      <td>Very Cheap</td>\n",
       "      <td>Very Cheap</td>\n",
       "      <td>Very Cheap</td>\n",
       "      <td>Very Cheap</td>\n",
       "      <td>Very Cheap</td>\n",
       "      <td>Very Cheap</td>\n",
       "      <td>Very Cheap</td>\n",
       "    </tr>\n",
       "    <tr>\n",
       "      <th>5146</th>\n",
       "      <td>Very Cheap</td>\n",
       "      <td>Very Cheap</td>\n",
       "      <td>Very Cheap</td>\n",
       "      <td>Very Cheap</td>\n",
       "      <td>Very Cheap</td>\n",
       "      <td>Very Cheap</td>\n",
       "      <td>Very Cheap</td>\n",
       "      <td>Very Cheap</td>\n",
       "    </tr>\n",
       "    <tr>\n",
       "      <th>5147</th>\n",
       "      <td>Very Cheap</td>\n",
       "      <td>Very Cheap</td>\n",
       "      <td>Very Cheap</td>\n",
       "      <td>Very Cheap</td>\n",
       "      <td>Very Cheap</td>\n",
       "      <td>Very Cheap</td>\n",
       "      <td>Very Cheap</td>\n",
       "      <td>Very Cheap</td>\n",
       "    </tr>\n",
       "    <tr>\n",
       "      <th>5148</th>\n",
       "      <td>Normal</td>\n",
       "      <td>Normal</td>\n",
       "      <td>Expensive</td>\n",
       "      <td>Normal</td>\n",
       "      <td>Normal</td>\n",
       "      <td>Very Expensive</td>\n",
       "      <td>Normal</td>\n",
       "      <td>Very Expensive</td>\n",
       "    </tr>\n",
       "    <tr>\n",
       "      <th>5149</th>\n",
       "      <td>Cheap</td>\n",
       "      <td>Cheap</td>\n",
       "      <td>Very Cheap</td>\n",
       "      <td>Cheap</td>\n",
       "      <td>Cheap</td>\n",
       "      <td>Cheap</td>\n",
       "      <td>Very Cheap</td>\n",
       "      <td>Cheap</td>\n",
       "    </tr>\n",
       "    <tr>\n",
       "      <th>5150</th>\n",
       "      <td>Cheap</td>\n",
       "      <td>Normal</td>\n",
       "      <td>Normal</td>\n",
       "      <td>Normal</td>\n",
       "      <td>Normal</td>\n",
       "      <td>Normal</td>\n",
       "      <td>Expensive</td>\n",
       "      <td>Normal</td>\n",
       "    </tr>\n",
       "    <tr>\n",
       "      <th>5151</th>\n",
       "      <td>Expensive</td>\n",
       "      <td>Normal</td>\n",
       "      <td>Normal</td>\n",
       "      <td>Normal</td>\n",
       "      <td>Normal</td>\n",
       "      <td>Normal</td>\n",
       "      <td>Normal</td>\n",
       "      <td>Normal</td>\n",
       "    </tr>\n",
       "    <tr>\n",
       "      <th>5152</th>\n",
       "      <td>Cheap</td>\n",
       "      <td>Cheap</td>\n",
       "      <td>Cheap</td>\n",
       "      <td>Cheap</td>\n",
       "      <td>Cheap</td>\n",
       "      <td>Cheap</td>\n",
       "      <td>Cheap</td>\n",
       "      <td>Cheap</td>\n",
       "    </tr>\n",
       "    <tr>\n",
       "      <th>5153</th>\n",
       "      <td>Cheap</td>\n",
       "      <td>Cheap</td>\n",
       "      <td>Cheap</td>\n",
       "      <td>Cheap</td>\n",
       "      <td>Cheap</td>\n",
       "      <td>Cheap</td>\n",
       "      <td>Cheap</td>\n",
       "      <td>Cheap</td>\n",
       "    </tr>\n",
       "    <tr>\n",
       "      <th>5154</th>\n",
       "      <td>Cheap</td>\n",
       "      <td>Cheap</td>\n",
       "      <td>Cheap</td>\n",
       "      <td>Cheap</td>\n",
       "      <td>Cheap</td>\n",
       "      <td>Cheap</td>\n",
       "      <td>Cheap</td>\n",
       "      <td>Cheap</td>\n",
       "    </tr>\n",
       "    <tr>\n",
       "      <th>5155</th>\n",
       "      <td>Cheap</td>\n",
       "      <td>Cheap</td>\n",
       "      <td>Cheap</td>\n",
       "      <td>Cheap</td>\n",
       "      <td>Cheap</td>\n",
       "      <td>Cheap</td>\n",
       "      <td>Cheap</td>\n",
       "      <td>Cheap</td>\n",
       "    </tr>\n",
       "    <tr>\n",
       "      <th>5156</th>\n",
       "      <td>Cheap</td>\n",
       "      <td>Very Cheap</td>\n",
       "      <td>Cheap</td>\n",
       "      <td>Very Cheap</td>\n",
       "      <td>Cheap</td>\n",
       "      <td>Very Cheap</td>\n",
       "      <td>Cheap</td>\n",
       "      <td>Cheap</td>\n",
       "    </tr>\n",
       "    <tr>\n",
       "      <th>5157</th>\n",
       "      <td>Cheap</td>\n",
       "      <td>Cheap</td>\n",
       "      <td>Cheap</td>\n",
       "      <td>Cheap</td>\n",
       "      <td>Cheap</td>\n",
       "      <td>Cheap</td>\n",
       "      <td>Cheap</td>\n",
       "      <td>Cheap</td>\n",
       "    </tr>\n",
       "    <tr>\n",
       "      <th>5158</th>\n",
       "      <td>Normal</td>\n",
       "      <td>Normal</td>\n",
       "      <td>Normal</td>\n",
       "      <td>Normal</td>\n",
       "      <td>Normal</td>\n",
       "      <td>Normal</td>\n",
       "      <td>Normal</td>\n",
       "      <td>Cheap</td>\n",
       "    </tr>\n",
       "    <tr>\n",
       "      <th>5159</th>\n",
       "      <td>Normal</td>\n",
       "      <td>Cheap</td>\n",
       "      <td>Cheap</td>\n",
       "      <td>Normal</td>\n",
       "      <td>Normal</td>\n",
       "      <td>Normal</td>\n",
       "      <td>Cheap</td>\n",
       "      <td>Normal</td>\n",
       "    </tr>\n",
       "  </tbody>\n",
       "</table>\n",
       "<p>5160 rows × 8 columns</p>\n",
       "</div>"
      ],
      "text/plain": [
       "              y_test y_pred_Logistic_Regression     y_pred_K_NN  \\\n",
       "0              Cheap                      Cheap           Cheap   \n",
       "1             Normal                     Normal          Normal   \n",
       "2              Cheap                      Cheap           Cheap   \n",
       "3         Very Cheap                 Very Cheap      Very Cheap   \n",
       "4     Very Expensive                      Cheap          Normal   \n",
       "5              Cheap                 Very Cheap      Very Cheap   \n",
       "6             Normal                      Cheap          Normal   \n",
       "7          Expensive                     Normal          Normal   \n",
       "8          Expensive                     Normal       Expensive   \n",
       "9             Normal                      Cheap           Cheap   \n",
       "10            Normal                      Cheap           Cheap   \n",
       "11        Very Cheap                 Very Cheap      Very Cheap   \n",
       "12        Very Cheap                 Very Cheap      Very Cheap   \n",
       "13             Cheap                 Very Cheap           Cheap   \n",
       "14            Normal                      Cheap           Cheap   \n",
       "15            Normal                      Cheap           Cheap   \n",
       "16         Expensive                     Normal       Expensive   \n",
       "17            Normal                 Very Cheap          Normal   \n",
       "18             Cheap                 Very Cheap           Cheap   \n",
       "19         Expensive             Very Expensive  Very Expensive   \n",
       "20             Cheap                      Cheap      Very Cheap   \n",
       "21        Very Cheap                 Very Cheap      Very Cheap   \n",
       "22            Normal                      Cheap          Normal   \n",
       "23         Expensive                      Cheap           Cheap   \n",
       "24             Cheap                      Cheap           Cheap   \n",
       "25             Cheap                      Cheap           Cheap   \n",
       "26             Cheap                      Cheap           Cheap   \n",
       "27             Cheap                      Cheap          Normal   \n",
       "28        Very Cheap                 Very Cheap           Cheap   \n",
       "29        Very Cheap                 Very Cheap      Very Cheap   \n",
       "...              ...                        ...             ...   \n",
       "5130      Very Cheap                      Cheap      Very Cheap   \n",
       "5131           Cheap                      Cheap          Normal   \n",
       "5132          Normal                      Cheap  Very Expensive   \n",
       "5133           Cheap                     Normal           Cheap   \n",
       "5134  Very Expensive                     Normal  Very Expensive   \n",
       "5135           Cheap                      Cheap           Cheap   \n",
       "5136           Cheap                      Cheap           Cheap   \n",
       "5137           Cheap                 Very Cheap           Cheap   \n",
       "5138      Very Cheap                 Very Cheap      Very Cheap   \n",
       "5139           Cheap                      Cheap           Cheap   \n",
       "5140           Cheap                 Very Cheap      Very Cheap   \n",
       "5141      Very Cheap                 Very Cheap      Very Cheap   \n",
       "5142           Cheap                      Cheap          Normal   \n",
       "5143      Very Cheap                 Very Cheap      Very Cheap   \n",
       "5144          Normal                      Cheap       Expensive   \n",
       "5145           Cheap                 Very Cheap      Very Cheap   \n",
       "5146      Very Cheap                 Very Cheap      Very Cheap   \n",
       "5147      Very Cheap                 Very Cheap      Very Cheap   \n",
       "5148          Normal                     Normal       Expensive   \n",
       "5149           Cheap                      Cheap      Very Cheap   \n",
       "5150           Cheap                     Normal          Normal   \n",
       "5151       Expensive                     Normal          Normal   \n",
       "5152           Cheap                      Cheap           Cheap   \n",
       "5153           Cheap                      Cheap           Cheap   \n",
       "5154           Cheap                      Cheap           Cheap   \n",
       "5155           Cheap                      Cheap           Cheap   \n",
       "5156           Cheap                 Very Cheap           Cheap   \n",
       "5157           Cheap                      Cheap           Cheap   \n",
       "5158          Normal                     Normal          Normal   \n",
       "5159          Normal                      Cheap           Cheap   \n",
       "\n",
       "     y_pred_SVM_linear y_pred_SVM_rbf y_pred_Naive_Bayes y_pred_Decision_Tree  \\\n",
       "0                Cheap          Cheap              Cheap                Cheap   \n",
       "1               Normal         Normal             Normal               Normal   \n",
       "2                Cheap          Cheap              Cheap                Cheap   \n",
       "3           Very Cheap     Very Cheap         Very Cheap           Very Cheap   \n",
       "4               Normal         Normal              Cheap            Expensive   \n",
       "5           Very Cheap          Cheap         Very Cheap           Very Cheap   \n",
       "6               Normal         Normal             Normal               Normal   \n",
       "7            Expensive         Normal             Normal       Very Expensive   \n",
       "8               Normal         Normal             Normal            Expensive   \n",
       "9               Normal          Cheap              Cheap               Normal   \n",
       "10               Cheap          Cheap              Cheap            Expensive   \n",
       "11          Very Cheap     Very Cheap         Very Cheap           Very Cheap   \n",
       "12          Very Cheap     Very Cheap         Very Cheap           Very Cheap   \n",
       "13          Very Cheap          Cheap         Very Cheap       Very Expensive   \n",
       "14               Cheap          Cheap              Cheap           Very Cheap   \n",
       "15              Normal         Normal              Cheap               Normal   \n",
       "16              Normal      Expensive     Very Expensive       Very Expensive   \n",
       "17          Very Cheap          Cheap         Very Cheap                Cheap   \n",
       "18               Cheap          Cheap         Very Cheap                Cheap   \n",
       "19              Normal      Expensive              Cheap       Very Expensive   \n",
       "20               Cheap          Cheap              Cheap           Very Cheap   \n",
       "21          Very Cheap     Very Cheap         Very Cheap           Very Cheap   \n",
       "22              Normal         Normal             Normal       Very Expensive   \n",
       "23              Normal          Cheap             Normal                Cheap   \n",
       "24               Cheap          Cheap              Cheap                Cheap   \n",
       "25               Cheap          Cheap              Cheap                Cheap   \n",
       "26               Cheap          Cheap              Cheap               Normal   \n",
       "27               Cheap          Cheap         Very Cheap                Cheap   \n",
       "28          Very Cheap          Cheap         Very Cheap                Cheap   \n",
       "29          Very Cheap     Very Cheap         Very Cheap           Very Cheap   \n",
       "...                ...            ...                ...                  ...   \n",
       "5130             Cheap          Cheap              Cheap                Cheap   \n",
       "5131            Normal          Cheap              Cheap               Normal   \n",
       "5132             Cheap          Cheap         Very Cheap       Very Expensive   \n",
       "5133            Normal          Cheap          Expensive                Cheap   \n",
       "5134            Normal      Expensive     Very Expensive            Expensive   \n",
       "5135             Cheap          Cheap              Cheap                Cheap   \n",
       "5136             Cheap          Cheap              Cheap                Cheap   \n",
       "5137             Cheap          Cheap              Cheap                Cheap   \n",
       "5138        Very Cheap     Very Cheap         Very Cheap                Cheap   \n",
       "5139             Cheap          Cheap         Very Cheap                Cheap   \n",
       "5140             Cheap     Very Cheap         Very Cheap           Very Cheap   \n",
       "5141        Very Cheap     Very Cheap         Very Cheap           Very Cheap   \n",
       "5142             Cheap          Cheap         Very Cheap            Expensive   \n",
       "5143        Very Cheap     Very Cheap         Very Cheap           Very Cheap   \n",
       "5144            Normal         Normal              Cheap               Normal   \n",
       "5145        Very Cheap     Very Cheap         Very Cheap           Very Cheap   \n",
       "5146        Very Cheap     Very Cheap         Very Cheap           Very Cheap   \n",
       "5147        Very Cheap     Very Cheap         Very Cheap           Very Cheap   \n",
       "5148            Normal         Normal     Very Expensive               Normal   \n",
       "5149             Cheap          Cheap              Cheap           Very Cheap   \n",
       "5150            Normal         Normal             Normal            Expensive   \n",
       "5151            Normal         Normal             Normal               Normal   \n",
       "5152             Cheap          Cheap              Cheap                Cheap   \n",
       "5153             Cheap          Cheap              Cheap                Cheap   \n",
       "5154             Cheap          Cheap              Cheap                Cheap   \n",
       "5155             Cheap          Cheap              Cheap                Cheap   \n",
       "5156        Very Cheap          Cheap         Very Cheap                Cheap   \n",
       "5157             Cheap          Cheap              Cheap                Cheap   \n",
       "5158            Normal         Normal             Normal               Normal   \n",
       "5159            Normal         Normal             Normal                Cheap   \n",
       "\n",
       "     y_pred_Random_Forest  \n",
       "0                   Cheap  \n",
       "1                  Normal  \n",
       "2                   Cheap  \n",
       "3              Very Cheap  \n",
       "4                  Normal  \n",
       "5                   Cheap  \n",
       "6                  Normal  \n",
       "7                  Normal  \n",
       "8                  Normal  \n",
       "9                  Normal  \n",
       "10                 Normal  \n",
       "11             Very Cheap  \n",
       "12             Very Cheap  \n",
       "13                  Cheap  \n",
       "14                  Cheap  \n",
       "15                 Normal  \n",
       "16              Expensive  \n",
       "17                  Cheap  \n",
       "18                  Cheap  \n",
       "19         Very Expensive  \n",
       "20                 Normal  \n",
       "21             Very Cheap  \n",
       "22                 Normal  \n",
       "23                 Normal  \n",
       "24                  Cheap  \n",
       "25                  Cheap  \n",
       "26                  Cheap  \n",
       "27                  Cheap  \n",
       "28                  Cheap  \n",
       "29             Very Cheap  \n",
       "...                   ...  \n",
       "5130                Cheap  \n",
       "5131               Normal  \n",
       "5132                Cheap  \n",
       "5133                Cheap  \n",
       "5134       Very Expensive  \n",
       "5135                Cheap  \n",
       "5136                Cheap  \n",
       "5137                Cheap  \n",
       "5138           Very Cheap  \n",
       "5139                Cheap  \n",
       "5140           Very Cheap  \n",
       "5141           Very Cheap  \n",
       "5142                Cheap  \n",
       "5143           Very Cheap  \n",
       "5144               Normal  \n",
       "5145           Very Cheap  \n",
       "5146           Very Cheap  \n",
       "5147           Very Cheap  \n",
       "5148       Very Expensive  \n",
       "5149                Cheap  \n",
       "5150               Normal  \n",
       "5151               Normal  \n",
       "5152                Cheap  \n",
       "5153                Cheap  \n",
       "5154                Cheap  \n",
       "5155                Cheap  \n",
       "5156                Cheap  \n",
       "5157                Cheap  \n",
       "5158                Cheap  \n",
       "5159               Normal  \n",
       "\n",
       "[5160 rows x 8 columns]"
      ]
     },
     "execution_count": 72,
     "metadata": {},
     "output_type": "execute_result"
    }
   ],
   "source": [
    "df = pd.DataFrame({\"y_test\" : y_test ,\n",
    "                   \"y_pred_Logistic_Regression\" : y_pred_Logistic_Regression,\n",
    "                   \"y_pred_K_NN\" : y_pred_K_NN,\n",
    "                   \"y_pred_SVM_linear\" : y_pred_SVM_linear,\n",
    "                   \"y_pred_SVM_rbf\" : y_pred_SVM_rbf,\n",
    "                   \"y_pred_Naive_Bayes\" : y_pred_Naive_Bayes,\n",
    "                   \"y_pred_Decision_Tree\" : y_pred_Decision_Tree,\n",
    "                   \"y_pred_Random_Forest\" : y_pred_Random_Forest\n",
    "                  })\n",
    "df"
   ]
  },
  {
   "cell_type": "code",
   "execution_count": null,
   "metadata": {},
   "outputs": [],
   "source": []
  },
  {
   "cell_type": "code",
   "execution_count": null,
   "metadata": {},
   "outputs": [],
   "source": []
  },
  {
   "cell_type": "code",
   "execution_count": 73,
   "metadata": {},
   "outputs": [],
   "source": [
    "df.to_excel('Housing_price_prediction.xlsx', sheet_name=\"sheet1\", index = False)"
   ]
  },
  {
   "cell_type": "markdown",
   "metadata": {},
   "source": [
    "# ِAccording to these results I am going to choice SVM model with rbf kernel that has accuracy equal 63.66% "
   ]
  }
 ],
 "metadata": {
  "kernelspec": {
   "display_name": "Python 3",
   "language": "python",
   "name": "python3"
  },
  "language_info": {
   "codemirror_mode": {
    "name": "ipython",
    "version": 3
   },
   "file_extension": ".py",
   "mimetype": "text/x-python",
   "name": "python",
   "nbconvert_exporter": "python",
   "pygments_lexer": "ipython3",
   "version": "3.7.3"
  }
 },
 "nbformat": 4,
 "nbformat_minor": 2
}
